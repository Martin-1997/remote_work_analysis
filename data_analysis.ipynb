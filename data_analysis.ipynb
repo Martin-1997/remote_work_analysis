{
 "cells": [
  {
   "cell_type": "markdown",
   "id": "20068620-c196-4e2d-806a-0dbb62b26540",
   "metadata": {},
   "source": [
    "# A guideline for future remote employees\n",
    "\n",
    "Working from home or remotely is on the rise - across all industries. With better, cheaper and more reliable digital communication technologies, many activities can be done from anywhere in the world. Everybody knows for himself, where he can work most efficiently: This place could be at home, in the coworking space around the block or at a peaceful spot in nature.\n",
    "\n",
    "Especially jobs related to information technology like system administration, software development or data science can be perfectly done without an office building. The work is done using a computer anyway, secure access to data and systems can be realized using modern IT security techniques and communication with colleagues as well as business meetings can be realized using appropriate software.\n",
    "\n",
    "Despite concerns about remote work, like reduced organizational affiliation, reduced personal contact with colleagues and challenes related to digial meetings, the trend towards remote work with all its benefits is likely to further accelerate in the future.\n",
    "\n",
    "The benefits for both emplooye and employer are overwhelming: Employees can save a lot of time they usually spend in traffic jams as well as costs for fuel or train tickets. Additionally, employees can work more flexible and can structure their day based on their own individual needs or responsibilities: For example, a father could prepare lunch for the children before they come home from school. Somewhere else, a young woman can easily practice some Yoga between her business meetings to sharpen her focus.\n",
    "\n",
    "But remote work is not only a big advantage for employees -  also companies can benefit from a remote workforce: First, there is no need anymore for expensive office buildings including costs for heating, electricity, cleaning, office furniture etc. Moreover, happier employees with a good work-life-balance are more productive and do not waste time on stupid tasks to fill out the time at work. The trust provided by the company will be reciprocated by increasingly loyal employees who want the best for the company to further improve this win-win situation.\n",
    "\n",
    "Especially in areas where much creativity is needed, the benefits of flexible remote work take an even larger effect.\n",
    "\n",
    "After pinpointing the benefits of remote work, we want to analyse a given dataset according to information about remote work. This data comes from Stackoverflow a survey and contains various information is about its user and their profession in general - not about remote work specifically. Anyway, we can extract the relevant information for our purpose and find meaningful insights about remote work."
   ]
  },
  {
   "cell_type": "markdown",
   "id": "ea54eaee-4309-477b-abb5-2c6d5bc915d0",
   "metadata": {},
   "source": [
    "# Structure using the CRISP-DM framework\n",
    "This document will use the CRIPS-DM framework to analyze the previously mentioned dataset regarding questions about remote work. CRISP-DM is a industrial standard for Data Science projects, which divides the whole project into six smaller phases. These phases can be used as a guideline for organization and implementing any data science related project. All the phases are going to be explained shortly while we perform the necessary operations to the data."
   ]
  },
  {
   "cell_type": "markdown",
   "id": "0af3fc9a-a0d4-4ed9-b4b7-7b218f876d69",
   "metadata": {},
   "source": [
    "## I. Business Understanding\n",
    "First, we need to understand the objectives of the project and the questions we want to answer. Before we define these questions, we take a look to get a basic understanding of the available data."
   ]
  },
  {
   "cell_type": "code",
   "execution_count": 1,
   "id": "be661fc4-ec36-4653-addc-1c831a2f5d66",
   "metadata": {},
   "outputs": [],
   "source": [
    "import os\n",
    "import pandas as pd\n",
    "import seaborn as sns\n",
    "#import matplotlib as plt\n",
    "sns.set_theme(style=\"whitegrid\")"
   ]
  },
  {
   "cell_type": "code",
   "execution_count": 2,
   "id": "72b604f0-0dd3-4735-8a74-6f70b96fc91e",
   "metadata": {},
   "outputs": [],
   "source": [
    "# Define the data paths and load the data as Pandas dataframes\n",
    "results_public_path = \"./data/survey-results-public.csv\"\n",
    "results_schema_path = \"./data/survey-results-schema.csv\"\n",
    "\n",
    "df_public = pd.read_csv(results_public_path)\n",
    "df_schema = pd.read_csv(results_schema_path)"
   ]
  },
  {
   "cell_type": "code",
   "execution_count": 3,
   "id": "df4a7288-820c-4294-ae68-4ed538515cef",
   "metadata": {},
   "outputs": [
    {
     "data": {
      "text/html": [
       "<div>\n",
       "<style scoped>\n",
       "    .dataframe tbody tr th:only-of-type {\n",
       "        vertical-align: middle;\n",
       "    }\n",
       "\n",
       "    .dataframe tbody tr th {\n",
       "        vertical-align: top;\n",
       "    }\n",
       "\n",
       "    .dataframe thead th {\n",
       "        text-align: right;\n",
       "    }\n",
       "</style>\n",
       "<table border=\"1\" class=\"dataframe\">\n",
       "  <thead>\n",
       "    <tr style=\"text-align: right;\">\n",
       "      <th></th>\n",
       "      <th>Respondent</th>\n",
       "      <th>Professional</th>\n",
       "      <th>ProgramHobby</th>\n",
       "      <th>Country</th>\n",
       "      <th>University</th>\n",
       "      <th>EmploymentStatus</th>\n",
       "      <th>FormalEducation</th>\n",
       "      <th>MajorUndergrad</th>\n",
       "      <th>HomeRemote</th>\n",
       "      <th>CompanySize</th>\n",
       "      <th>...</th>\n",
       "      <th>StackOverflowMakeMoney</th>\n",
       "      <th>Gender</th>\n",
       "      <th>HighestEducationParents</th>\n",
       "      <th>Race</th>\n",
       "      <th>SurveyLong</th>\n",
       "      <th>QuestionsInteresting</th>\n",
       "      <th>QuestionsConfusing</th>\n",
       "      <th>InterestedAnswers</th>\n",
       "      <th>Salary</th>\n",
       "      <th>ExpectedSalary</th>\n",
       "    </tr>\n",
       "  </thead>\n",
       "  <tbody>\n",
       "    <tr>\n",
       "      <th>0</th>\n",
       "      <td>1</td>\n",
       "      <td>Student</td>\n",
       "      <td>Yes, both</td>\n",
       "      <td>United States</td>\n",
       "      <td>No</td>\n",
       "      <td>Not employed, and not looking for work</td>\n",
       "      <td>Secondary school</td>\n",
       "      <td>NaN</td>\n",
       "      <td>NaN</td>\n",
       "      <td>NaN</td>\n",
       "      <td>...</td>\n",
       "      <td>Strongly disagree</td>\n",
       "      <td>Male</td>\n",
       "      <td>High school</td>\n",
       "      <td>White or of European descent</td>\n",
       "      <td>Strongly disagree</td>\n",
       "      <td>Strongly agree</td>\n",
       "      <td>Disagree</td>\n",
       "      <td>Strongly agree</td>\n",
       "      <td>NaN</td>\n",
       "      <td>NaN</td>\n",
       "    </tr>\n",
       "    <tr>\n",
       "      <th>1</th>\n",
       "      <td>2</td>\n",
       "      <td>Student</td>\n",
       "      <td>Yes, both</td>\n",
       "      <td>United Kingdom</td>\n",
       "      <td>Yes, full-time</td>\n",
       "      <td>Employed part-time</td>\n",
       "      <td>Some college/university study without earning ...</td>\n",
       "      <td>Computer science or software engineering</td>\n",
       "      <td>More than half, but not all, the time</td>\n",
       "      <td>20 to 99 employees</td>\n",
       "      <td>...</td>\n",
       "      <td>Strongly disagree</td>\n",
       "      <td>Male</td>\n",
       "      <td>A master's degree</td>\n",
       "      <td>White or of European descent</td>\n",
       "      <td>Somewhat agree</td>\n",
       "      <td>Somewhat agree</td>\n",
       "      <td>Disagree</td>\n",
       "      <td>Strongly agree</td>\n",
       "      <td>NaN</td>\n",
       "      <td>37500.0</td>\n",
       "    </tr>\n",
       "    <tr>\n",
       "      <th>2</th>\n",
       "      <td>3</td>\n",
       "      <td>Professional developer</td>\n",
       "      <td>Yes, both</td>\n",
       "      <td>United Kingdom</td>\n",
       "      <td>No</td>\n",
       "      <td>Employed full-time</td>\n",
       "      <td>Bachelor's degree</td>\n",
       "      <td>Computer science or software engineering</td>\n",
       "      <td>Less than half the time, but at least one day ...</td>\n",
       "      <td>10,000 or more employees</td>\n",
       "      <td>...</td>\n",
       "      <td>Disagree</td>\n",
       "      <td>Male</td>\n",
       "      <td>A professional degree</td>\n",
       "      <td>White or of European descent</td>\n",
       "      <td>Somewhat agree</td>\n",
       "      <td>Agree</td>\n",
       "      <td>Disagree</td>\n",
       "      <td>Agree</td>\n",
       "      <td>113750.0</td>\n",
       "      <td>NaN</td>\n",
       "    </tr>\n",
       "    <tr>\n",
       "      <th>3</th>\n",
       "      <td>4</td>\n",
       "      <td>Professional non-developer who sometimes write...</td>\n",
       "      <td>Yes, both</td>\n",
       "      <td>United States</td>\n",
       "      <td>No</td>\n",
       "      <td>Employed full-time</td>\n",
       "      <td>Doctoral degree</td>\n",
       "      <td>A non-computer-focused engineering discipline</td>\n",
       "      <td>Less than half the time, but at least one day ...</td>\n",
       "      <td>10,000 or more employees</td>\n",
       "      <td>...</td>\n",
       "      <td>Disagree</td>\n",
       "      <td>Male</td>\n",
       "      <td>A doctoral degree</td>\n",
       "      <td>White or of European descent</td>\n",
       "      <td>Agree</td>\n",
       "      <td>Agree</td>\n",
       "      <td>Somewhat agree</td>\n",
       "      <td>Strongly agree</td>\n",
       "      <td>NaN</td>\n",
       "      <td>NaN</td>\n",
       "    </tr>\n",
       "    <tr>\n",
       "      <th>4</th>\n",
       "      <td>5</td>\n",
       "      <td>Professional developer</td>\n",
       "      <td>Yes, I program as a hobby</td>\n",
       "      <td>Switzerland</td>\n",
       "      <td>No</td>\n",
       "      <td>Employed full-time</td>\n",
       "      <td>Master's degree</td>\n",
       "      <td>Computer science or software engineering</td>\n",
       "      <td>Never</td>\n",
       "      <td>10 to 19 employees</td>\n",
       "      <td>...</td>\n",
       "      <td>NaN</td>\n",
       "      <td>NaN</td>\n",
       "      <td>NaN</td>\n",
       "      <td>NaN</td>\n",
       "      <td>NaN</td>\n",
       "      <td>NaN</td>\n",
       "      <td>NaN</td>\n",
       "      <td>NaN</td>\n",
       "      <td>NaN</td>\n",
       "      <td>NaN</td>\n",
       "    </tr>\n",
       "  </tbody>\n",
       "</table>\n",
       "<p>5 rows × 154 columns</p>\n",
       "</div>"
      ],
      "text/plain": [
       "   Respondent                                       Professional  \\\n",
       "0           1                                            Student   \n",
       "1           2                                            Student   \n",
       "2           3                             Professional developer   \n",
       "3           4  Professional non-developer who sometimes write...   \n",
       "4           5                             Professional developer   \n",
       "\n",
       "                ProgramHobby         Country      University  \\\n",
       "0                  Yes, both   United States              No   \n",
       "1                  Yes, both  United Kingdom  Yes, full-time   \n",
       "2                  Yes, both  United Kingdom              No   \n",
       "3                  Yes, both   United States              No   \n",
       "4  Yes, I program as a hobby     Switzerland              No   \n",
       "\n",
       "                         EmploymentStatus  \\\n",
       "0  Not employed, and not looking for work   \n",
       "1                      Employed part-time   \n",
       "2                      Employed full-time   \n",
       "3                      Employed full-time   \n",
       "4                      Employed full-time   \n",
       "\n",
       "                                     FormalEducation  \\\n",
       "0                                   Secondary school   \n",
       "1  Some college/university study without earning ...   \n",
       "2                                  Bachelor's degree   \n",
       "3                                    Doctoral degree   \n",
       "4                                    Master's degree   \n",
       "\n",
       "                                  MajorUndergrad  \\\n",
       "0                                            NaN   \n",
       "1       Computer science or software engineering   \n",
       "2       Computer science or software engineering   \n",
       "3  A non-computer-focused engineering discipline   \n",
       "4       Computer science or software engineering   \n",
       "\n",
       "                                          HomeRemote  \\\n",
       "0                                                NaN   \n",
       "1              More than half, but not all, the time   \n",
       "2  Less than half the time, but at least one day ...   \n",
       "3  Less than half the time, but at least one day ...   \n",
       "4                                              Never   \n",
       "\n",
       "                CompanySize  ... StackOverflowMakeMoney Gender  \\\n",
       "0                       NaN  ...      Strongly disagree   Male   \n",
       "1        20 to 99 employees  ...      Strongly disagree   Male   \n",
       "2  10,000 or more employees  ...               Disagree   Male   \n",
       "3  10,000 or more employees  ...               Disagree   Male   \n",
       "4        10 to 19 employees  ...                    NaN    NaN   \n",
       "\n",
       "  HighestEducationParents                          Race         SurveyLong  \\\n",
       "0             High school  White or of European descent  Strongly disagree   \n",
       "1       A master's degree  White or of European descent     Somewhat agree   \n",
       "2   A professional degree  White or of European descent     Somewhat agree   \n",
       "3       A doctoral degree  White or of European descent              Agree   \n",
       "4                     NaN                           NaN                NaN   \n",
       "\n",
       "  QuestionsInteresting QuestionsConfusing InterestedAnswers    Salary  \\\n",
       "0       Strongly agree           Disagree    Strongly agree       NaN   \n",
       "1       Somewhat agree           Disagree    Strongly agree       NaN   \n",
       "2                Agree           Disagree             Agree  113750.0   \n",
       "3                Agree     Somewhat agree    Strongly agree       NaN   \n",
       "4                  NaN                NaN               NaN       NaN   \n",
       "\n",
       "   ExpectedSalary  \n",
       "0             NaN  \n",
       "1         37500.0  \n",
       "2             NaN  \n",
       "3             NaN  \n",
       "4             NaN  \n",
       "\n",
       "[5 rows x 154 columns]"
      ]
     },
     "execution_count": 3,
     "metadata": {},
     "output_type": "execute_result"
    }
   ],
   "source": [
    "df_public.head()"
   ]
  },
  {
   "cell_type": "code",
   "execution_count": 4,
   "id": "421b187d-d586-4c8f-b10b-f55252592d89",
   "metadata": {},
   "outputs": [
    {
     "data": {
      "text/html": [
       "<div>\n",
       "<style scoped>\n",
       "    .dataframe tbody tr th:only-of-type {\n",
       "        vertical-align: middle;\n",
       "    }\n",
       "\n",
       "    .dataframe tbody tr th {\n",
       "        vertical-align: top;\n",
       "    }\n",
       "\n",
       "    .dataframe thead th {\n",
       "        text-align: right;\n",
       "    }\n",
       "</style>\n",
       "<table border=\"1\" class=\"dataframe\">\n",
       "  <thead>\n",
       "    <tr style=\"text-align: right;\">\n",
       "      <th></th>\n",
       "      <th>Column</th>\n",
       "      <th>Question</th>\n",
       "    </tr>\n",
       "  </thead>\n",
       "  <tbody>\n",
       "    <tr>\n",
       "      <th>0</th>\n",
       "      <td>Respondent</td>\n",
       "      <td>Respondent ID number</td>\n",
       "    </tr>\n",
       "    <tr>\n",
       "      <th>1</th>\n",
       "      <td>Professional</td>\n",
       "      <td>Which of the following best describes you?</td>\n",
       "    </tr>\n",
       "    <tr>\n",
       "      <th>2</th>\n",
       "      <td>ProgramHobby</td>\n",
       "      <td>Do you program as a hobby or contribute to ope...</td>\n",
       "    </tr>\n",
       "    <tr>\n",
       "      <th>3</th>\n",
       "      <td>Country</td>\n",
       "      <td>In which country do you currently live?</td>\n",
       "    </tr>\n",
       "    <tr>\n",
       "      <th>4</th>\n",
       "      <td>University</td>\n",
       "      <td>Are you currently enrolled in a formal, degree...</td>\n",
       "    </tr>\n",
       "  </tbody>\n",
       "</table>\n",
       "</div>"
      ],
      "text/plain": [
       "         Column                                           Question\n",
       "0    Respondent                               Respondent ID number\n",
       "1  Professional         Which of the following best describes you?\n",
       "2  ProgramHobby  Do you program as a hobby or contribute to ope...\n",
       "3       Country            In which country do you currently live?\n",
       "4    University  Are you currently enrolled in a formal, degree..."
      ]
     },
     "execution_count": 4,
     "metadata": {},
     "output_type": "execute_result"
    }
   ],
   "source": [
    "df_schema.head()"
   ]
  },
  {
   "cell_type": "markdown",
   "id": "b6d00b19-c127-4a52-9aa1-c351856a21bf",
   "metadata": {},
   "source": [
    "As we can see, the first csv-file contains the results from a survey among Stackoverflow users. The second csv-file contains an explanation for all the provided columns. Each column represents a question in the questionnaire.\n",
    "\n",
    "After looking at the questions manually, we examined that the following questions from the survey are directly related to remote work:\n",
    "\n",
    "- EmploymentStatus - Which of the following best describes your current employment status?\n",
    "- HomeRemote - How often do you work from home or remotely?\n",
    "- YearsProgram - How long has it been since you first learned how to program?\n",
    "- YearsCodedJob - For how many years have you coded as part of your job?\n",
    "- YearsCodedJobPast - For how many years did you code as part of your job?\n",
    "- AssessJobRemote - When you're assessing potential jobs to apply to, how important are each of the following to you? The opportunity to work from home/remotely\n",
    "- CollaborateRemote - It's harder to collaborate with remote peers than those on site\n",
    "\n",
    "\n",
    "We formulate a case study to have a common thread for all our objectives during this project:\n",
    "\n",
    "David is a young university graduant who likes to work as a data scientist - he is currently searching for a job. He is a highly motivated person who encounters problems as challenges and reframes drawbacks as new sources of motivation. He is willing to work hard to satisfy the needs and wishes of his customers. Therefore, he seems to be the ideal candidate for any employer who is currently hiring a data scientist. But David loves to travel and therefore he wants to work as a digital nomad. He wants to work location-independent and therefore he searches for a remote job. Additionally, he wants to work at a company with an intresting product and a progressive corporate culture because he want to identify with what he does - working only for money is not an option for him. Hence, job satisfaction is way more important for him than his salary.\n",
    "\n",
    "Because David is a smart person, he uses his data science skills to find out some information about his potential perfect employer and what the requirements for a remote job are. This insight helps him to prepare his search for interesting companies and for the application process. Furthermore he wants to know, if any further education etc. can help him to increase the likelihood to find his perfect job match.\n",
    "\n",
    "Based on these requirements, we are going to formulate three key questions which we want to answer with the given data.\n",
    "\n",
    "**Question 1 - Is remote work also common for young professionals, or is it more common for more experienced employees?**\n",
    "This question can be answered in two ways:\n",
    "1. How many people with plenty work experience work remotely, or in general: How many people work remotely based on their working experience.\n",
    "2. How much work experience do employees have depending on whether they work remotely or not.\n",
    "\n",
    "Because we have different levels of remote working levels (f.e. \"About half the time\" or \"A few days each month\"), it is not useful to calculate a hard percentage or a threshold. Hence we try to find a trend in the data that indicates if the experience of any employee is correlated with the amount of time he works remotely.\n",
    "\n",
    "**Question 2 - Is a smaller or a bigger company more likely to offer remote jobs?**\n",
    "This question also offers two ways to achieve an answer:\n",
    "1. Is the size of a company linked to how many people they employ remotely? Here we need to find out a percentage value because in general a bigger company can be expected to employ more people remotely in absolute terms.\n",
    "2. Is a remote worker more likely to work in a bigger or in a smaller company.\n",
    "\n",
    "Again, we have different categories for company size, therefore we can again try to find a trend in the data that indicates a correlation.\n",
    "\n",
    "\n",
    "**Question 3 - What are the most common ways for companies to search for remote workforce?**\n",
    "\n",
    "\n",
    "\n",
    "\n",
    "To get representative data, we assume that all participants who took part in the survey where randomly choosen from a pool of all software engineers, data scientists, students in the area of IT, etc. "
   ]
  },
  {
   "cell_type": "markdown",
   "id": "7c395088-e7c1-4f2d-87cc-2cb5f2b78ed8",
   "metadata": {},
   "source": [
    "# II. Data Understanding\n",
    "The second phase in the CRISP-DM framework is about searching for data that can help us to answer the given questions. It is also import to review the data source to evaluate its correctness, potential biases and timeliness. Additionally, he data needs to be analyzed and explored to find out if it can provide helpful insights to answer the objectives formulated in the Business Understanding phase.\n",
    "\n",
    "In our project, it was necessary to change the order a bit - because the data was provided first within the scope of this project within a Udacity course. In this case, we saw the data first and then we formulated some interesting questions to answer. Therefore, we performed the data understanding first at the beginning of this Jupyter notebook. However, in real world projects, the concrete objectives will usually be pre-defined by business requirements or mangement inquiries. Data may not be available and need to be searched, purchased or collected.\n",
    "\n",
    "Hence we can continue with the next step\n"
   ]
  },
  {
   "cell_type": "markdown",
   "id": "ed7b148d-25c8-47c9-9eae-55a6862fd0bf",
   "metadata": {},
   "source": [
    "# III. Data preparation\n",
    "Within this step, we process the available data to make it suitable for our requirements. This step could include:\n",
    "- Selecting / Excluding data\n",
    "- Clean data (omit garbage-in, garbage-out) - We need to correcly deal with missing data, wrong data etc.\n",
    "- Construct data (Creating new data columns based on existing ones, f.e. to create better indicators)\n",
    "- Integrate data - Combine data from multiple sources\n",
    "- Format data - Change the datatypes within the data set\n",
    "\n",
    "\n",
    "Depending on the objectives and the data, some or even all of these methods and their respective techniques are necessary to prepare the data for later analysis. The data preparation part is often the most time-consuming one."
   ]
  },
  {
   "cell_type": "code",
   "execution_count": 5,
   "id": "0493fb81-bb1b-4006-9262-3299d64a08d2",
   "metadata": {},
   "outputs": [
    {
     "data": {
      "text/html": [
       "<div>\n",
       "<style scoped>\n",
       "    .dataframe tbody tr th:only-of-type {\n",
       "        vertical-align: middle;\n",
       "    }\n",
       "\n",
       "    .dataframe tbody tr th {\n",
       "        vertical-align: top;\n",
       "    }\n",
       "\n",
       "    .dataframe thead th {\n",
       "        text-align: right;\n",
       "    }\n",
       "</style>\n",
       "<table border=\"1\" class=\"dataframe\">\n",
       "  <thead>\n",
       "    <tr style=\"text-align: right;\">\n",
       "      <th></th>\n",
       "      <th>Respondent</th>\n",
       "      <th>Professional</th>\n",
       "      <th>ProgramHobby</th>\n",
       "      <th>Country</th>\n",
       "      <th>University</th>\n",
       "      <th>EmploymentStatus</th>\n",
       "      <th>FormalEducation</th>\n",
       "      <th>MajorUndergrad</th>\n",
       "      <th>HomeRemote</th>\n",
       "      <th>CompanySize</th>\n",
       "      <th>...</th>\n",
       "      <th>StackOverflowMakeMoney</th>\n",
       "      <th>Gender</th>\n",
       "      <th>HighestEducationParents</th>\n",
       "      <th>Race</th>\n",
       "      <th>SurveyLong</th>\n",
       "      <th>QuestionsInteresting</th>\n",
       "      <th>QuestionsConfusing</th>\n",
       "      <th>InterestedAnswers</th>\n",
       "      <th>Salary</th>\n",
       "      <th>ExpectedSalary</th>\n",
       "    </tr>\n",
       "  </thead>\n",
       "  <tbody>\n",
       "    <tr>\n",
       "      <th>0</th>\n",
       "      <td>1</td>\n",
       "      <td>Student</td>\n",
       "      <td>Yes, both</td>\n",
       "      <td>United States</td>\n",
       "      <td>No</td>\n",
       "      <td>Not employed, and not looking for work</td>\n",
       "      <td>Secondary school</td>\n",
       "      <td>NaN</td>\n",
       "      <td>NaN</td>\n",
       "      <td>NaN</td>\n",
       "      <td>...</td>\n",
       "      <td>Strongly disagree</td>\n",
       "      <td>Male</td>\n",
       "      <td>High school</td>\n",
       "      <td>White or of European descent</td>\n",
       "      <td>Strongly disagree</td>\n",
       "      <td>Strongly agree</td>\n",
       "      <td>Disagree</td>\n",
       "      <td>Strongly agree</td>\n",
       "      <td>NaN</td>\n",
       "      <td>NaN</td>\n",
       "    </tr>\n",
       "    <tr>\n",
       "      <th>1</th>\n",
       "      <td>2</td>\n",
       "      <td>Student</td>\n",
       "      <td>Yes, both</td>\n",
       "      <td>United Kingdom</td>\n",
       "      <td>Yes, full-time</td>\n",
       "      <td>Employed part-time</td>\n",
       "      <td>Some college/university study without earning ...</td>\n",
       "      <td>Computer science or software engineering</td>\n",
       "      <td>More than half, but not all, the time</td>\n",
       "      <td>20 to 99 employees</td>\n",
       "      <td>...</td>\n",
       "      <td>Strongly disagree</td>\n",
       "      <td>Male</td>\n",
       "      <td>A master's degree</td>\n",
       "      <td>White or of European descent</td>\n",
       "      <td>Somewhat agree</td>\n",
       "      <td>Somewhat agree</td>\n",
       "      <td>Disagree</td>\n",
       "      <td>Strongly agree</td>\n",
       "      <td>NaN</td>\n",
       "      <td>37500.0</td>\n",
       "    </tr>\n",
       "    <tr>\n",
       "      <th>2</th>\n",
       "      <td>3</td>\n",
       "      <td>Professional developer</td>\n",
       "      <td>Yes, both</td>\n",
       "      <td>United Kingdom</td>\n",
       "      <td>No</td>\n",
       "      <td>Employed full-time</td>\n",
       "      <td>Bachelor's degree</td>\n",
       "      <td>Computer science or software engineering</td>\n",
       "      <td>Less than half the time, but at least one day ...</td>\n",
       "      <td>10,000 or more employees</td>\n",
       "      <td>...</td>\n",
       "      <td>Disagree</td>\n",
       "      <td>Male</td>\n",
       "      <td>A professional degree</td>\n",
       "      <td>White or of European descent</td>\n",
       "      <td>Somewhat agree</td>\n",
       "      <td>Agree</td>\n",
       "      <td>Disagree</td>\n",
       "      <td>Agree</td>\n",
       "      <td>113750.0</td>\n",
       "      <td>NaN</td>\n",
       "    </tr>\n",
       "    <tr>\n",
       "      <th>3</th>\n",
       "      <td>4</td>\n",
       "      <td>Professional non-developer who sometimes write...</td>\n",
       "      <td>Yes, both</td>\n",
       "      <td>United States</td>\n",
       "      <td>No</td>\n",
       "      <td>Employed full-time</td>\n",
       "      <td>Doctoral degree</td>\n",
       "      <td>A non-computer-focused engineering discipline</td>\n",
       "      <td>Less than half the time, but at least one day ...</td>\n",
       "      <td>10,000 or more employees</td>\n",
       "      <td>...</td>\n",
       "      <td>Disagree</td>\n",
       "      <td>Male</td>\n",
       "      <td>A doctoral degree</td>\n",
       "      <td>White or of European descent</td>\n",
       "      <td>Agree</td>\n",
       "      <td>Agree</td>\n",
       "      <td>Somewhat agree</td>\n",
       "      <td>Strongly agree</td>\n",
       "      <td>NaN</td>\n",
       "      <td>NaN</td>\n",
       "    </tr>\n",
       "    <tr>\n",
       "      <th>4</th>\n",
       "      <td>5</td>\n",
       "      <td>Professional developer</td>\n",
       "      <td>Yes, I program as a hobby</td>\n",
       "      <td>Switzerland</td>\n",
       "      <td>No</td>\n",
       "      <td>Employed full-time</td>\n",
       "      <td>Master's degree</td>\n",
       "      <td>Computer science or software engineering</td>\n",
       "      <td>Never</td>\n",
       "      <td>10 to 19 employees</td>\n",
       "      <td>...</td>\n",
       "      <td>NaN</td>\n",
       "      <td>NaN</td>\n",
       "      <td>NaN</td>\n",
       "      <td>NaN</td>\n",
       "      <td>NaN</td>\n",
       "      <td>NaN</td>\n",
       "      <td>NaN</td>\n",
       "      <td>NaN</td>\n",
       "      <td>NaN</td>\n",
       "      <td>NaN</td>\n",
       "    </tr>\n",
       "  </tbody>\n",
       "</table>\n",
       "<p>5 rows × 154 columns</p>\n",
       "</div>"
      ],
      "text/plain": [
       "   Respondent                                       Professional  \\\n",
       "0           1                                            Student   \n",
       "1           2                                            Student   \n",
       "2           3                             Professional developer   \n",
       "3           4  Professional non-developer who sometimes write...   \n",
       "4           5                             Professional developer   \n",
       "\n",
       "                ProgramHobby         Country      University  \\\n",
       "0                  Yes, both   United States              No   \n",
       "1                  Yes, both  United Kingdom  Yes, full-time   \n",
       "2                  Yes, both  United Kingdom              No   \n",
       "3                  Yes, both   United States              No   \n",
       "4  Yes, I program as a hobby     Switzerland              No   \n",
       "\n",
       "                         EmploymentStatus  \\\n",
       "0  Not employed, and not looking for work   \n",
       "1                      Employed part-time   \n",
       "2                      Employed full-time   \n",
       "3                      Employed full-time   \n",
       "4                      Employed full-time   \n",
       "\n",
       "                                     FormalEducation  \\\n",
       "0                                   Secondary school   \n",
       "1  Some college/university study without earning ...   \n",
       "2                                  Bachelor's degree   \n",
       "3                                    Doctoral degree   \n",
       "4                                    Master's degree   \n",
       "\n",
       "                                  MajorUndergrad  \\\n",
       "0                                            NaN   \n",
       "1       Computer science or software engineering   \n",
       "2       Computer science or software engineering   \n",
       "3  A non-computer-focused engineering discipline   \n",
       "4       Computer science or software engineering   \n",
       "\n",
       "                                          HomeRemote  \\\n",
       "0                                                NaN   \n",
       "1              More than half, but not all, the time   \n",
       "2  Less than half the time, but at least one day ...   \n",
       "3  Less than half the time, but at least one day ...   \n",
       "4                                              Never   \n",
       "\n",
       "                CompanySize  ... StackOverflowMakeMoney Gender  \\\n",
       "0                       NaN  ...      Strongly disagree   Male   \n",
       "1        20 to 99 employees  ...      Strongly disagree   Male   \n",
       "2  10,000 or more employees  ...               Disagree   Male   \n",
       "3  10,000 or more employees  ...               Disagree   Male   \n",
       "4        10 to 19 employees  ...                    NaN    NaN   \n",
       "\n",
       "  HighestEducationParents                          Race         SurveyLong  \\\n",
       "0             High school  White or of European descent  Strongly disagree   \n",
       "1       A master's degree  White or of European descent     Somewhat agree   \n",
       "2   A professional degree  White or of European descent     Somewhat agree   \n",
       "3       A doctoral degree  White or of European descent              Agree   \n",
       "4                     NaN                           NaN                NaN   \n",
       "\n",
       "  QuestionsInteresting QuestionsConfusing InterestedAnswers    Salary  \\\n",
       "0       Strongly agree           Disagree    Strongly agree       NaN   \n",
       "1       Somewhat agree           Disagree    Strongly agree       NaN   \n",
       "2                Agree           Disagree             Agree  113750.0   \n",
       "3                Agree     Somewhat agree    Strongly agree       NaN   \n",
       "4                  NaN                NaN               NaN       NaN   \n",
       "\n",
       "   ExpectedSalary  \n",
       "0             NaN  \n",
       "1         37500.0  \n",
       "2             NaN  \n",
       "3             NaN  \n",
       "4             NaN  \n",
       "\n",
       "[5 rows x 154 columns]"
      ]
     },
     "execution_count": 5,
     "metadata": {},
     "output_type": "execute_result"
    }
   ],
   "source": [
    "df_public.head()"
   ]
  },
  {
   "cell_type": "code",
   "execution_count": 6,
   "id": "d101fc86-d610-48f7-999f-e6812cb7f045",
   "metadata": {},
   "outputs": [],
   "source": [
    "# We can drop the Respondent column, because Pandas already creates an own index. There is only a slight difference between the index\n",
    "# created by Pandas and the original index: the created index starts at 0, whereas the already existing index starts at 1. We choose to use the 0-based index and to drop the other one\n",
    "df_public.drop(columns=[\"Respondent\"], axis=1, inplace=True)"
   ]
  },
  {
   "cell_type": "code",
   "execution_count": 7,
   "id": "dd2a9b76-8f4a-4620-8a3b-30b538f4dc0c",
   "metadata": {
    "tags": []
   },
   "outputs": [
    {
     "data": {
      "text/plain": [
       "Professional                         object\n",
       "ProgramHobby                         object\n",
       "Country                              object\n",
       "University                           object\n",
       "EmploymentStatus                     object\n",
       "FormalEducation                      object\n",
       "MajorUndergrad                       object\n",
       "HomeRemote                           object\n",
       "CompanySize                          object\n",
       "CompanyType                          object\n",
       "YearsProgram                         object\n",
       "YearsCodedJob                        object\n",
       "YearsCodedJobPast                    object\n",
       "DeveloperType                        object\n",
       "WebDeveloperType                     object\n",
       "MobileDeveloperType                  object\n",
       "NonDeveloperType                     object\n",
       "CareerSatisfaction                  float64\n",
       "JobSatisfaction                     float64\n",
       "ExCoderReturn                        object\n",
       "ExCoderNotForMe                      object\n",
       "ExCoderBalance                       object\n",
       "ExCoder10Years                       object\n",
       "ExCoderBelonged                      object\n",
       "ExCoderSkills                        object\n",
       "ExCoderWillNotCode                   object\n",
       "ExCoderActive                        object\n",
       "PronounceGIF                         object\n",
       "ProblemSolving                       object\n",
       "BuildingThings                       object\n",
       "LearningNewTech                      object\n",
       "BoringDetails                        object\n",
       "JobSecurity                          object\n",
       "DiversityImportant                   object\n",
       "AnnoyingUI                           object\n",
       "FriendsDevelopers                    object\n",
       "RightWrongWay                        object\n",
       "UnderstandComputers                  object\n",
       "SeriousWork                          object\n",
       "InvestTimeTools                      object\n",
       "WorkPayCare                          object\n",
       "KinshipDevelopers                    object\n",
       "ChallengeMyself                      object\n",
       "CompetePeers                         object\n",
       "ChangeWorld                          object\n",
       "JobSeekingStatus                     object\n",
       "HoursPerWeek                        float64\n",
       "LastNewJob                           object\n",
       "AssessJobIndustry                    object\n",
       "AssessJobRole                        object\n",
       "AssessJobExp                         object\n",
       "AssessJobDept                        object\n",
       "AssessJobTech                        object\n",
       "AssessJobProjects                    object\n",
       "AssessJobCompensation                object\n",
       "AssessJobOffice                      object\n",
       "AssessJobCommute                     object\n",
       "AssessJobRemote                      object\n",
       "AssessJobLeaders                     object\n",
       "AssessJobProfDevel                   object\n",
       "AssessJobDiversity                   object\n",
       "AssessJobProduct                     object\n",
       "AssessJobFinances                    object\n",
       "ImportantBenefits                    object\n",
       "ClickyKeys                           object\n",
       "JobProfile                           object\n",
       "ResumePrompted                       object\n",
       "LearnedHiring                        object\n",
       "ImportantHiringAlgorithms            object\n",
       "ImportantHiringTechExp               object\n",
       "ImportantHiringCommunication         object\n",
       "ImportantHiringOpenSource            object\n",
       "ImportantHiringPMExp                 object\n",
       "ImportantHiringCompanies             object\n",
       "ImportantHiringTitles                object\n",
       "ImportantHiringEducation             object\n",
       "ImportantHiringRep                   object\n",
       "ImportantHiringGettingThingsDone     object\n",
       "Currency                             object\n",
       "Overpaid                             object\n",
       "TabsSpaces                           object\n",
       "EducationImportant                   object\n",
       "EducationTypes                       object\n",
       "SelfTaughtTypes                      object\n",
       "TimeAfterBootcamp                    object\n",
       "CousinEducation                      object\n",
       "WorkStart                            object\n",
       "HaveWorkedLanguage                   object\n",
       "WantWorkLanguage                     object\n",
       "HaveWorkedFramework                  object\n",
       "WantWorkFramework                    object\n",
       "HaveWorkedDatabase                   object\n",
       "WantWorkDatabase                     object\n",
       "HaveWorkedPlatform                   object\n",
       "WantWorkPlatform                     object\n",
       "IDE                                  object\n",
       "AuditoryEnvironment                  object\n",
       "Methodology                          object\n",
       "VersionControl                       object\n",
       "CheckInCode                          object\n",
       "ShipIt                               object\n",
       "OtherPeoplesCode                     object\n",
       "ProjectManagement                    object\n",
       "EnjoyDebugging                       object\n",
       "InTheZone                            object\n",
       "DifficultCommunication               object\n",
       "CollaborateRemote                    object\n",
       "MetricAssess                         object\n",
       "EquipmentSatisfiedMonitors           object\n",
       "EquipmentSatisfiedCPU                object\n",
       "EquipmentSatisfiedRAM                object\n",
       "EquipmentSatisfiedStorage            object\n",
       "EquipmentSatisfiedRW                 object\n",
       "InfluenceInternet                    object\n",
       "InfluenceWorkstation                 object\n",
       "InfluenceHardware                    object\n",
       "InfluenceServers                     object\n",
       "InfluenceTechStack                   object\n",
       "InfluenceDeptTech                    object\n",
       "InfluenceVizTools                    object\n",
       "InfluenceDatabase                    object\n",
       "InfluenceCloud                       object\n",
       "InfluenceConsultants                 object\n",
       "InfluenceRecruitment                 object\n",
       "InfluenceCommunication               object\n",
       "StackOverflowDescribes               object\n",
       "StackOverflowSatisfaction           float64\n",
       "StackOverflowDevices                 object\n",
       "StackOverflowFoundAnswer             object\n",
       "StackOverflowCopiedCode              object\n",
       "StackOverflowJobListing              object\n",
       "StackOverflowCompanyPage             object\n",
       "StackOverflowJobSearch               object\n",
       "StackOverflowNewQuestion             object\n",
       "StackOverflowAnswer                  object\n",
       "StackOverflowMetaChat                object\n",
       "StackOverflowAdsRelevant             object\n",
       "StackOverflowAdsDistracting          object\n",
       "StackOverflowModeration              object\n",
       "StackOverflowCommunity               object\n",
       "StackOverflowHelpful                 object\n",
       "StackOverflowBetter                  object\n",
       "StackOverflowWhatDo                  object\n",
       "StackOverflowMakeMoney               object\n",
       "Gender                               object\n",
       "HighestEducationParents              object\n",
       "Race                                 object\n",
       "SurveyLong                           object\n",
       "QuestionsInteresting                 object\n",
       "QuestionsConfusing                   object\n",
       "InterestedAnswers                    object\n",
       "Salary                              float64\n",
       "ExpectedSalary                      float64\n",
       "dtype: object"
      ]
     },
     "execution_count": 7,
     "metadata": {},
     "output_type": "execute_result"
    }
   ],
   "source": [
    "# This prevents that Jupyter omits the middle part of the output\n",
    "pd.set_option('display.max_rows', None)\n",
    "pd.set_option('display.max_columns', None)\n",
    "# Next, we want to take a look a the the data columns provided in the dataframe\n",
    "df_public.dtypes"
   ]
  },
  {
   "cell_type": "markdown",
   "id": "3babf7fc-0c6c-4906-a125-80db9cb3bc25",
   "metadata": {},
   "source": [
    "We only have float values and string objects within our available data set.\n",
    "Most of the columns with the datatype \"object\" contain categorical variables. Therefore we may use a conversion of these values to categorical data to make use of the build-in category functions in Pandas."
   ]
  },
  {
   "cell_type": "code",
   "execution_count": 8,
   "id": "da35a82a-babc-4297-892f-1b4d03c25f66",
   "metadata": {},
   "outputs": [],
   "source": [
    "# Set the Pandas display settings back to normal\n",
    "pd.set_option('display.max_rows', 20)\n",
    "pd.set_option('display.max_columns', 20)"
   ]
  },
  {
   "cell_type": "markdown",
   "id": "1a381a26-5efb-4a3f-8e57-d8b186b00918",
   "metadata": {},
   "source": [
    "To answer all these questions, we need to examine the information about remote work provided in the dataset. First, we should gather some information about how many people work remote and to what extend. Therefore we are going to take a look at the column \"HomeRemote\""
   ]
  },
  {
   "cell_type": "code",
   "execution_count": 9,
   "id": "3e0024d7-33a3-425b-bc74-2516e33ed2fd",
   "metadata": {},
   "outputs": [
    {
     "data": {
      "text/plain": [
       "A few days each month                                      15454\n",
       "Never                                                      13975\n",
       "All or almost all the time (I'm full-time remote)           4905\n",
       "Less than half the time, but at least one day each week     4147\n",
       "More than half, but not all, the time                       1909\n",
       "It's complicated                                            1849\n",
       "About half the time                                         1769\n",
       "Name: HomeRemote, dtype: int64"
      ]
     },
     "execution_count": 9,
     "metadata": {},
     "output_type": "execute_result"
    }
   ],
   "source": [
    "# Filter for people who have a job!\n",
    "df_public[\"HomeRemote\"].value_counts()"
   ]
  },
  {
   "cell_type": "markdown",
   "id": "bea2ebae-b239-46b3-b078-32d72e6634b2",
   "metadata": {},
   "source": [
    "We also check if there are any missing values"
   ]
  },
  {
   "cell_type": "code",
   "execution_count": 10,
   "id": "18daf156-1b1a-4741-94f2-d5d8390f793e",
   "metadata": {},
   "outputs": [
    {
     "data": {
      "text/plain": [
       "7384"
      ]
     },
     "execution_count": 10,
     "metadata": {},
     "output_type": "execute_result"
    }
   ],
   "source": [
    "df_public[\"HomeRemote\"].isnull().sum()"
   ]
  },
  {
   "cell_type": "markdown",
   "id": "073a9c01-eecb-455c-94f4-1100024bfd38",
   "metadata": {},
   "source": [
    "As we can see, we have many missing values. We need to consider that this dataset not only contains data from employees, but also from students etc. Therefore we should also take a look at the column \"Professional\" to exclude people who are not working at all."
   ]
  },
  {
   "cell_type": "code",
   "execution_count": 11,
   "id": "80a2a9d9-5ce0-48ff-bd8b-877223c6994d",
   "metadata": {},
   "outputs": [
    {
     "data": {
      "text/plain": [
       "Professional developer                                  36131\n",
       "Student                                                  8224\n",
       "Professional non-developer who sometimes writes code     5140\n",
       "Used to be a professional developer                       983\n",
       "None of these                                             914\n",
       "Name: Professional, dtype: int64"
      ]
     },
     "execution_count": 11,
     "metadata": {},
     "output_type": "execute_result"
    }
   ],
   "source": [
    "# Filter for people who have a job!\n",
    "df_public[\"Professional\"].value_counts()"
   ]
  },
  {
   "cell_type": "code",
   "execution_count": 12,
   "id": "3cf2c49c-b88c-4de9-9f57-250e4dbd276b",
   "metadata": {},
   "outputs": [
    {
     "data": {
      "text/plain": [
       "0"
      ]
     },
     "execution_count": 12,
     "metadata": {},
     "output_type": "execute_result"
    }
   ],
   "source": [
    "df_public[\"Professional\"].isnull().sum()"
   ]
  },
  {
   "cell_type": "markdown",
   "id": "f315b9c7-1601-4de7-9a14-b41d5444c550",
   "metadata": {},
   "source": [
    "This column does not contain any missing values. The number of students is also in the same magnitude as the number of missing values in the \"HomeRemote\"-column. To check of many of the missing values in this columns are students who do now work, we check the amount of missing values int the \"HomeRemote\"-column again, excluding the students."
   ]
  },
  {
   "cell_type": "code",
   "execution_count": 13,
   "id": "53c8e0c7-9558-4148-9d2c-c1db97924426",
   "metadata": {},
   "outputs": [
    {
     "data": {
      "text/plain": [
       "2406"
      ]
     },
     "execution_count": 13,
     "metadata": {},
     "output_type": "execute_result"
    }
   ],
   "source": [
    "df_public.loc[df_public[\"Professional\"] != \"Student\"][\"HomeRemote\"].isnull().sum()\n"
   ]
  },
  {
   "cell_type": "markdown",
   "id": "de812a7e-5f8d-43c5-922c-819d12f9ee73",
   "metadata": {},
   "source": [
    "We already got rid of many of the missing values. We also exclude anybody, who selected \"None of these\" to potentially further shrink the amount of missing values"
   ]
  },
  {
   "cell_type": "code",
   "execution_count": 14,
   "id": "9809dce2-248a-42b6-a58d-8af72a61c597",
   "metadata": {},
   "outputs": [
    {
     "data": {
      "text/plain": [
       "1493"
      ]
     },
     "execution_count": 14,
     "metadata": {},
     "output_type": "execute_result"
    }
   ],
   "source": [
    "#df_public[(df_public[\"HomeRemote\"] != \"It's complicated \")\n",
    "options = [\"Student\", \"None of these\"]\n",
    "df_public.loc[~df_public[\"Professional\"].isin(options)][\"HomeRemote\"].isnull().sum()"
   ]
  },
  {
   "cell_type": "markdown",
   "id": "b54c7c18-b319-4a4e-ad0f-2ef48197a5e8",
   "metadata": {},
   "source": [
    "Additionally, we can also remove anybody who selected \"Used to be a professional developer\", because these people may already retired."
   ]
  },
  {
   "cell_type": "code",
   "execution_count": 15,
   "id": "a08a0f79-4278-45f9-8cb0-48330d9e749f",
   "metadata": {},
   "outputs": [
    {
     "data": {
      "text/plain": [
       "1243"
      ]
     },
     "execution_count": 15,
     "metadata": {},
     "output_type": "execute_result"
    }
   ],
   "source": [
    "#df_public[(df_public[\"HomeRemote\"] != \"It's complicated \")\n",
    "options = [\"Student\", \"None of these\", \"Used to be a professional developer\"]\n",
    "df_public.loc[~df_public[\"Professional\"].isin(options)][\"HomeRemote\"].isnull().sum()"
   ]
  },
  {
   "cell_type": "markdown",
   "id": "7e49a693-e791-4068-927f-26b21b7d9ccc",
   "metadata": {},
   "source": [
    "We are going to create a new dataset for all people who are for sure actively working."
   ]
  },
  {
   "cell_type": "code",
   "execution_count": 16,
   "id": "1417e351-c5f4-41d9-a8f2-c11326a74126",
   "metadata": {},
   "outputs": [],
   "source": [
    "df_working = df_public.loc[~df_public[\"Professional\"].isin(options)].copy()"
   ]
  },
  {
   "cell_type": "markdown",
   "id": "54ee6ff6-b1f2-4919-bb2b-b93a0529863b",
   "metadata": {},
   "source": [
    "There are still more than 1200 missing values! We are going to replace these values with a own category, because maybe the information can be useful in the future. Hence, we fill the string \"No information\" to all the missing fields."
   ]
  },
  {
   "cell_type": "code",
   "execution_count": 17,
   "id": "fdab240f-392e-4868-81cb-ddad6db77a16",
   "metadata": {
    "tags": []
   },
   "outputs": [],
   "source": [
    "df_working[\"HomeRemote\"].fillna(\"No information\", inplace=True)"
   ]
  },
  {
   "cell_type": "markdown",
   "id": "773feea1-41b3-4a0c-9bdf-76876a5d8955",
   "metadata": {},
   "source": [
    "This column contains categorical information, therefore we change the datatype of the column. Additionally, the categories are in a order and can be compared to each other regarding home much time an emplooyee works remotely or at home.\n",
    "We can use CategoricalDtype to specify our own categories and to order them appropriately\n",
    "Further information about categories in Pandas: https://pandas.pydata.org/pandas-docs/stable/user_guide/categorical.html"
   ]
  },
  {
   "cell_type": "code",
   "execution_count": 18,
   "id": "ba9a64d6-dcbc-4e1e-859e-966b4403b3ce",
   "metadata": {},
   "outputs": [],
   "source": [
    "# Import the datatype CategoricalDtype from the Pandas library\n",
    "from pandas.api.types import CategoricalDtype\n",
    "# We need to specify the categories manually to impose an order on them. A low order indicates a person who never works remotely, a high order indicates a person who works all or almost all the time remotely.\n",
    "homeRemote_cat_strings = [\"Never\",\n",
    "                        \"It's complicated\",\n",
    "                        \"No information\",\n",
    "                        \"A few days each month\",\n",
    "                        \"Less than half the time, but at least one day each week\",\n",
    "                        \"About half the time\",\n",
    "                        \"More than half, but not all, the time\",\n",
    "                        \"All or almost all the time (I'm full-time remote)\"]\n",
    "homeRemote_cats = CategoricalDtype(categories = homeRemote_cat_strings, ordered = True)\n",
    "\n",
    "# Converting a column to the \"category\" datatype\n",
    "df_working[\"HomeRemote\"] = df_public[\"HomeRemote\"].astype(homeRemote_cats) "
   ]
  },
  {
   "cell_type": "code",
   "execution_count": 19,
   "id": "05bd3977-38fc-48dd-8dc1-0ee0be8287eb",
   "metadata": {},
   "outputs": [
    {
     "data": {
      "text/plain": [
       "count                     40028\n",
       "unique                        7\n",
       "top       A few days each month\n",
       "freq                      14584\n",
       "Name: HomeRemote, dtype: object"
      ]
     },
     "execution_count": 19,
     "metadata": {},
     "output_type": "execute_result"
    }
   ],
   "source": [
    "df_working[\"HomeRemote\"].describe()"
   ]
  },
  {
   "cell_type": "code",
   "execution_count": 20,
   "id": "1a289e06-f3c4-4ab4-bbb2-72b1bec2720c",
   "metadata": {
    "tags": []
   },
   "outputs": [
    {
     "data": {
      "text/plain": [
       "A few days each month                                      14584\n",
       "Never                                                      12591\n",
       "All or almost all the time (I'm full-time remote)           4324\n",
       "Less than half the time, but at least one day each week     3784\n",
       "It's complicated                                            1716\n",
       "More than half, but not all, the time                       1571\n",
       "About half the time                                         1458\n",
       "No information                                                 0\n",
       "Name: HomeRemote, dtype: int64"
      ]
     },
     "execution_count": 20,
     "metadata": {},
     "output_type": "execute_result"
    }
   ],
   "source": [
    "# We can print the frequency of occurance in plain numbers, also we can ...\n",
    "df_working[\"HomeRemote\"].value_counts()"
   ]
  },
  {
   "cell_type": "code",
   "execution_count": 21,
   "id": "4a2aab76-5df2-4915-92cb-8d202b451881",
   "metadata": {
    "tags": []
   },
   "outputs": [
    {
     "data": {
      "image/png": "[encoded data removed]",
      "text/plain": [
       "<Figure size 432x288 with 1 Axes>"
      ]
     },
     "metadata": {},
     "output_type": "display_data"
    }
   ],
   "source": [
    "# ... create a bar chart to visualize the frequency of the categories\n",
    "\n",
    "plot = sns.countplot(x = df_working[\"HomeRemote\"], color='blue', order = homeRemote_cat_strings)\n",
    "# Set the order manually by providing the string list of the categories\n",
    "dummy_var = plot.set_xticklabels(labels = homeRemote_cat_strings, rotation=90)"
   ]
  },
  {
   "cell_type": "code",
   "execution_count": 22,
   "id": "ddec1e39-f595-4130-a997-ac1128d1cfd5",
   "metadata": {},
   "outputs": [
    {
     "name": "stdout",
     "output_type": "stream",
     "text": [
      "Relative distribution of the different categories related to remote work: \n",
      "\n",
      "Never: 30.51%\n",
      "It's complicated: 4.16%\n",
      "No information: 0.0%\n",
      "A few days each month: 35.34%\n",
      "Less than half the time, but at least one day each week: 9.17%\n",
      "About half the time: 3.53%\n",
      "More than half, but not all, the time: 3.81%\n",
      "All or almost all the time (I'm full-time remote): 10.48%\n"
     ]
    }
   ],
   "source": [
    "print(\"Relative distribution of the different categories related to remote work: \\n\" )\n",
    "for category in homeRemote_cat_strings:\n",
    "    percentage_full_remote = df_working.loc[df_working[\"HomeRemote\"] == category][\"HomeRemote\"].count()/df_working.shape[0]\n",
    "    print(f\"{category}: {round(percentage_full_remote*100,2)}%\" )\n",
    "\n",
    "#print(f\"{round(percentage_full_remote*100,2)}% of all employees work completly or almost completly remote\")"
   ]
  },
  {
   "cell_type": "markdown",
   "id": "946aea87-27bd-4682-ba6c-26e3d39e5b00",
   "metadata": {},
   "source": [
    "As we can see, working remotely or from home is still not common. Most employees never work from home or only for a few days each month. On the other hand, around 10% work fully remote.\n",
    "\n",
    "Now we are goint to take a look at the coding experience of the different persons:"
   ]
  },
  {
   "cell_type": "code",
   "execution_count": 23,
   "id": "76326203-33d0-4376-a80d-8d94490a2b35",
   "metadata": {
    "tags": []
   },
   "outputs": [
    {
     "data": {
      "text/plain": [
       "count            40886\n",
       "unique              21\n",
       "top       1 to 2 years\n",
       "freq              5289\n",
       "Name: YearsCodedJob, dtype: object"
      ]
     },
     "execution_count": 23,
     "metadata": {},
     "output_type": "execute_result"
    }
   ],
   "source": [
    "df_working[\"YearsCodedJob\"].describe()"
   ]
  },
  {
   "cell_type": "markdown",
   "id": "8a55ae68-7732-4d1d-970e-aecfc14b4245",
   "metadata": {},
   "source": [
    "This also seems to be a categorical variable! We look at the frequency of the different provided answers:"
   ]
  },
  {
   "cell_type": "code",
   "execution_count": 24,
   "id": "a81c99df-64b4-4837-818c-95f76ad1cf3d",
   "metadata": {
    "tags": []
   },
   "outputs": [
    {
     "data": {
      "text/plain": [
       "1 to 2 years        5289\n",
       "2 to 3 years        4765\n",
       "3 to 4 years        4002\n",
       "4 to 5 years        3404\n",
       "20 or more years    3067\n",
       "Less than a year    3034\n",
       "5 to 6 years        2990\n",
       "9 to 10 years       1956\n",
       "6 to 7 years        1912\n",
       "10 to 11 years      1678\n",
       "7 to 8 years        1638\n",
       "8 to 9 years        1287\n",
       "15 to 16 years       845\n",
       "14 to 15 years       840\n",
       "11 to 12 years       838\n",
       "12 to 13 years       741\n",
       "16 to 17 years       694\n",
       "17 to 18 years       545\n",
       "13 to 14 years       531\n",
       "19 to 20 years       427\n",
       "18 to 19 years       403\n",
       "Name: YearsCodedJob, dtype: int64"
      ]
     },
     "execution_count": 24,
     "metadata": {},
     "output_type": "execute_result"
    }
   ],
   "source": [
    "pd.set_option('display.max_rows', None)\n",
    "df_working[\"YearsCodedJob\"].value_counts()"
   ]
  },
  {
   "cell_type": "markdown",
   "id": "b046bdea-fb61-4e18-9974-0a488c98d618",
   "metadata": {},
   "source": [
    "We check again for nan-values"
   ]
  },
  {
   "cell_type": "code",
   "execution_count": 25,
   "id": "2f7b1566-69dc-468b-b26d-cc13840642b9",
   "metadata": {
    "tags": []
   },
   "outputs": [
    {
     "data": {
      "text/plain": [
       "385"
      ]
     },
     "execution_count": 25,
     "metadata": {},
     "output_type": "execute_result"
    }
   ],
   "source": [
    "df_working[\"YearsCodedJob\"].isnull().sum()"
   ]
  },
  {
   "cell_type": "markdown",
   "id": "5c637cc5-9ac8-4b5c-98f4-47571600da49",
   "metadata": {},
   "source": [
    "There are around 385 nan values, therefore we are going to drop them"
   ]
  },
  {
   "cell_type": "code",
   "execution_count": 26,
   "id": "002f8c35-a688-4dc4-b2be-1c3f58bd3ac0",
   "metadata": {
    "tags": []
   },
   "outputs": [],
   "source": [
    "df_working.dropna(subset=[\"YearsCodedJob\"], inplace=True)"
   ]
  },
  {
   "cell_type": "markdown",
   "id": "d4385e76-7f3d-4076-ad1b-9ad8837afa2f",
   "metadata": {},
   "source": [
    "This column basically contains numerical values, which are stored as categories. We can convert them to a new integer column \"FullYearsCodedJob\". Therefore we take the first number in the specified range as the value, \n",
    "f.e. \"13 to 14 years\" gets stored to \"13\". This is done automatically when we provide the correct semantic order of the categories and then apply them to the column."
   ]
  },
  {
   "cell_type": "code",
   "execution_count": 27,
   "id": "d47592cc-2d4f-4fac-b220-002acfd48882",
   "metadata": {
    "tags": []
   },
   "outputs": [],
   "source": [
    "# Dict which defines how to map the values from \"YearsCodedJob\" to \"FullYearsCodedJob\"\n",
    "YearsCodedJob_mapping = {\"Less than a year\" : 0,\n",
    "                        \"1 to 2 years\" : 1,\n",
    "                        \"2 to 3 years\" : 2,\n",
    "                        \"3 to 4 years\" : 3,\n",
    "                        \"4 to 5 years\" : 4,\n",
    "                        \"5 to 6 years\" : 5,\n",
    "                        \"6 to 7 years\" : 6,\n",
    "                        \"7 to 8 years\" : 7,\n",
    "                        \"8 to 9 years\" : 8,\n",
    "                        \"9 to 10 years\" : 9,\n",
    "                        \"10 to 11 years\" : 10,\n",
    "                        \"11 to 12 years\" : 11,\n",
    "                        \"12 to 13 years\" : 12,\n",
    "                        \"13 to 14 years\" : 13,\n",
    "                        \"14 to 15 years\" : 14,\n",
    "                        \"15 to 16 years\" : 15,\n",
    "                        \"16 to 17 years\" : 16,\n",
    "                        \"17 to 18 years\" : 17,\n",
    "                        \"18 to 19 years\" : 18,\n",
    "                        \"19 to 20 years\" : 19,\n",
    "                        \"20 or more years\" : 20,\n",
    "                      #  \"No information\" : 21 # We need to consider that we do not know anything about these persons, therefore we cannot consider this category to be in the same order as the other ones\n",
    "                        }\n",
    "# Perform the mapping\n",
    "df_working[\"FullYearsCodedJob\"] = df_working[\"YearsCodedJob\"].map(YearsCodedJob_mapping)\n",
    "\n",
    "\n",
    "# Change the original column to a categorical one\n",
    "YearsCodedJob_cat_strings = [\"Less than a year\",\n",
    "                        \"1 to 2 years\",\n",
    "                        \"2 to 3 years\",\n",
    "                        \"3 to 4 years\",\n",
    "                        \"4 to 5 years\",\n",
    "                        \"5 to 6 years\",\n",
    "                        \"6 to 7 years\",\n",
    "                        \"7 to 8 years\",\n",
    "                        \"8 to 9 years\",\n",
    "                        \"9 to 10 years\",\n",
    "                        \"10 to 11 years\",\n",
    "                        \"11 to 12 years\",\n",
    "                        \"12 to 13 years\",\n",
    "                        \"13 to 14 years\",\n",
    "                        \"14 to 15 years\",\n",
    "                        \"15 to 16 years\",\n",
    "                        \"16 to 17 years\",\n",
    "                        \"17 to 18 years\",\n",
    "                        \"18 to 19 years\",\n",
    "                        \"19 to 20 years\",\n",
    "                        \"20 or more years\",\n",
    "                       # \"No information\" # We need to consider that we do not know anything about these persons, therefore we cannot consider this category to be in the same order as the other ones\n",
    "                            ]\n",
    "YearsCodedJob_cats = CategoricalDtype(categories = YearsCodedJob_cat_strings, ordered = True)\n",
    "\n",
    "# Converting a column to the \"category\" datatype\n",
    "df_working[\"YearsCodedJob\"] = df_working[\"YearsCodedJob\"].astype(YearsCodedJob_cats) "
   ]
  },
  {
   "cell_type": "code",
   "execution_count": 28,
   "id": "166f524c-3f7f-49c2-a837-335e75e35346",
   "metadata": {
    "tags": []
   },
   "outputs": [
    {
     "data": {
      "text/plain": [
       "1 to 2 years        5289\n",
       "2 to 3 years        4765\n",
       "3 to 4 years        4002\n",
       "4 to 5 years        3404\n",
       "20 or more years    3067\n",
       "Less than a year    3034\n",
       "5 to 6 years        2990\n",
       "9 to 10 years       1956\n",
       "6 to 7 years        1912\n",
       "10 to 11 years      1678\n",
       "7 to 8 years        1638\n",
       "8 to 9 years        1287\n",
       "15 to 16 years       845\n",
       "14 to 15 years       840\n",
       "11 to 12 years       838\n",
       "12 to 13 years       741\n",
       "16 to 17 years       694\n",
       "17 to 18 years       545\n",
       "13 to 14 years       531\n",
       "19 to 20 years       427\n",
       "18 to 19 years       403\n",
       "Name: YearsCodedJob, dtype: int64"
      ]
     },
     "execution_count": 28,
     "metadata": {},
     "output_type": "execute_result"
    }
   ],
   "source": [
    "df_working[\"YearsCodedJob\"].value_counts()"
   ]
  },
  {
   "cell_type": "code",
   "execution_count": 29,
   "id": "ed9ba547-3dfb-4a04-8f5e-39cdba307b62",
   "metadata": {
    "tags": []
   },
   "outputs": [
    {
     "data": {
      "image/png": "[encoded data removed]",
      "text/plain": [
       "<Figure size 432x288 with 1 Axes>"
      ]
     },
     "metadata": {},
     "output_type": "display_data"
    }
   ],
   "source": [
    "# As earlier, we can create a bar chart to visualize the frequency of the categories\n",
    "\n",
    "plot = sns.countplot(x = df_working[\"YearsCodedJob\"], color='blue', order = YearsCodedJob_cat_strings)\n",
    "dummy_variable = plot.set_xticklabels(labels = plot.get_xticklabels(), rotation=90)"
   ]
  },
  {
   "cell_type": "markdown",
   "id": "a98208fd-1a19-4a09-b67e-32d86305c14a",
   "metadata": {},
   "source": [
    "The next variable we want to analyze is \"YearsCodedJobPast\". From the description, we cannot get the difference to the previous column"
   ]
  },
  {
   "cell_type": "code",
   "execution_count": 30,
   "id": "bff06a39-bfc8-439a-8d0d-a29854d5b436",
   "metadata": {
    "tags": []
   },
   "outputs": [
    {
     "data": {
      "text/plain": [
       "count                 11\n",
       "unique                 7\n",
       "top       15 to 16 years\n",
       "freq                   2\n",
       "Name: YearsCodedJobPast, dtype: object"
      ]
     },
     "execution_count": 30,
     "metadata": {},
     "output_type": "execute_result"
    }
   ],
   "source": [
    "df_working[\"YearsCodedJobPast\"].describe()"
   ]
  },
  {
   "cell_type": "code",
   "execution_count": 31,
   "id": "80cb7c1d-b0f7-4e96-8ae1-d43670755a5d",
   "metadata": {
    "tags": []
   },
   "outputs": [
    {
     "data": {
      "text/plain": [
       "15 to 16 years      2\n",
       "Less than a year    2\n",
       "6 to 7 years        2\n",
       "7 to 8 years        2\n",
       "11 to 12 years      1\n",
       "3 to 4 years        1\n",
       "1 to 2 years        1\n",
       "Name: YearsCodedJobPast, dtype: int64"
      ]
     },
     "execution_count": 31,
     "metadata": {},
     "output_type": "execute_result"
    }
   ],
   "source": [
    "df_working[\"YearsCodedJobPast\"].value_counts()"
   ]
  },
  {
   "cell_type": "code",
   "execution_count": 32,
   "id": "aba1e5be-ddc0-4a4d-b2ac-800f920843aa",
   "metadata": {
    "tags": []
   },
   "outputs": [
    {
     "data": {
      "text/plain": [
       "40875"
      ]
     },
     "execution_count": 32,
     "metadata": {},
     "output_type": "execute_result"
    }
   ],
   "source": [
    "df_working[\"YearsCodedJobPast\"].isnull().sum()"
   ]
  },
  {
   "cell_type": "code",
   "execution_count": 33,
   "id": "6277bc32-2bc1-4ca4-a04b-231a52e9c254",
   "metadata": {
    "tags": []
   },
   "outputs": [
    {
     "data": {
      "text/plain": [
       "0.9997309592525558"
      ]
     },
     "execution_count": 33,
     "metadata": {},
     "output_type": "execute_result"
    }
   ],
   "source": [
    "df_working[\"YearsCodedJobPast\"].isnull().sum()/df_working.shape[0]"
   ]
  },
  {
   "cell_type": "markdown",
   "id": "9da25cc9-a3f3-4fb1-b751-a1c60a4ec92e",
   "metadata": {},
   "source": [
    "This column mainly contains nan values and the meaning is not described sufficiently, therefore we are going to drop the column"
   ]
  },
  {
   "cell_type": "code",
   "execution_count": 34,
   "id": "4d299138-b388-4e2e-bb0f-28517600357a",
   "metadata": {
    "tags": []
   },
   "outputs": [],
   "source": [
    "df_working.drop(columns=[\"YearsCodedJobPast\"], axis=1, inplace=True)"
   ]
  },
  {
   "cell_type": "markdown",
   "id": "37077900-44bc-4f5a-a9b8-b18382bfb5b6",
   "metadata": {
    "tags": []
   },
   "source": [
    "Now we want to analyze the average coding experience in a job for each HomeRemote-category. We exclude the employees who selected \"It's complicated\" regarding their ability to work remotely because we do not know of each of these individuals spends much or less time working remotely"
   ]
  },
  {
   "cell_type": "code",
   "execution_count": 35,
   "id": "8d8a43ae-e84e-4ec3-bfbc-6d11c98abf3f",
   "metadata": {},
   "outputs": [],
   "source": [
    "options = [\"It's complicated\", \"No information\"]\n",
    "df_working = df_working.loc[~df_working[\"HomeRemote\"].isin(options)]"
   ]
  },
  {
   "cell_type": "code",
   "execution_count": 36,
   "id": "a1f98a7a-e3f8-491d-9f07-e219e53ff4fb",
   "metadata": {},
   "outputs": [
    {
     "data": {
      "text/plain": [
       "HomeRemote\n",
       "Never                                                      5.346656\n",
       "A few days each month                                      6.656060\n",
       "Less than half the time, but at least one day each week    7.504255\n",
       "About half the time                                        7.155387\n",
       "More than half, but not all, the time                      7.440438\n",
       "All or almost all the time (I'm full-time remote)          8.758283\n",
       "Name: FullYearsCodedJob, dtype: float64"
      ]
     },
     "execution_count": 36,
     "metadata": {},
     "output_type": "execute_result"
    }
   ],
   "source": [
    "df_working[\"HomeRemote\"] = df_working[\"HomeRemote\"].cat.remove_unused_categories().copy()\n",
    "average_work_experience = df_working.groupby(\"HomeRemote\").mean()[\"FullYearsCodedJob\"]\n",
    "average_work_experience"
   ]
  },
  {
   "cell_type": "code",
   "execution_count": 37,
   "id": "23801ca5-942f-4d63-9ba6-86e9a638a11b",
   "metadata": {},
   "outputs": [
    {
     "data": {
      "image/png": "[encoded data removed]",
      "text/plain": [
       "<Figure size 432x288 with 1 Axes>"
      ]
     },
     "metadata": {},
     "output_type": "display_data"
    }
   ],
   "source": [
    "plt = average_work_experience.plot(kind=\"bar\")"
   ]
  },
  {
   "cell_type": "markdown",
   "id": "702319e8-ddaa-40a5-9ca6-cff1692782b7",
   "metadata": {},
   "source": [
    "As we can see, there seems to be a general trend indicating that employees with more working experience are more likely to work remotely than employees with less working experience."
   ]
  },
  {
   "cell_type": "markdown",
   "id": "8eca06e8-7d00-48cd-a680-a0dd19abcb7e",
   "metadata": {},
   "source": [
    "# Questions 2 - Is a smaller or a bigger company more likely to offer remote jobs?\n",
    "To answer this question, we need to take a look at the different company sizes in which the survey participants work. To only use the data from people who are currently working, we use our cleaned and preprocessed dataset from the first question."
   ]
  },
  {
   "cell_type": "code",
   "execution_count": 38,
   "id": "86022645-ab17-4126-82a8-4b7a2a815795",
   "metadata": {},
   "outputs": [
    {
     "data": {
      "text/html": [
       "<div>\n",
       "<style scoped>\n",
       "    .dataframe tbody tr th:only-of-type {\n",
       "        vertical-align: middle;\n",
       "    }\n",
       "\n",
       "    .dataframe tbody tr th {\n",
       "        vertical-align: top;\n",
       "    }\n",
       "\n",
       "    .dataframe thead th {\n",
       "        text-align: right;\n",
       "    }\n",
       "</style>\n",
       "<table border=\"1\" class=\"dataframe\">\n",
       "  <thead>\n",
       "    <tr style=\"text-align: right;\">\n",
       "      <th></th>\n",
       "      <th>Professional</th>\n",
       "      <th>ProgramHobby</th>\n",
       "      <th>Country</th>\n",
       "      <th>University</th>\n",
       "      <th>EmploymentStatus</th>\n",
       "      <th>FormalEducation</th>\n",
       "      <th>MajorUndergrad</th>\n",
       "      <th>HomeRemote</th>\n",
       "      <th>CompanySize</th>\n",
       "      <th>CompanyType</th>\n",
       "      <th>...</th>\n",
       "      <th>Gender</th>\n",
       "      <th>HighestEducationParents</th>\n",
       "      <th>Race</th>\n",
       "      <th>SurveyLong</th>\n",
       "      <th>QuestionsInteresting</th>\n",
       "      <th>QuestionsConfusing</th>\n",
       "      <th>InterestedAnswers</th>\n",
       "      <th>Salary</th>\n",
       "      <th>ExpectedSalary</th>\n",
       "      <th>FullYearsCodedJob</th>\n",
       "    </tr>\n",
       "  </thead>\n",
       "  <tbody>\n",
       "    <tr>\n",
       "      <th>2</th>\n",
       "      <td>Professional developer</td>\n",
       "      <td>Yes, both</td>\n",
       "      <td>United Kingdom</td>\n",
       "      <td>No</td>\n",
       "      <td>Employed full-time</td>\n",
       "      <td>Bachelor's degree</td>\n",
       "      <td>Computer science or software engineering</td>\n",
       "      <td>Less than half the time, but at least one day ...</td>\n",
       "      <td>10,000 or more employees</td>\n",
       "      <td>Publicly-traded corporation</td>\n",
       "      <td>...</td>\n",
       "      <td>Male</td>\n",
       "      <td>A professional degree</td>\n",
       "      <td>White or of European descent</td>\n",
       "      <td>Somewhat agree</td>\n",
       "      <td>Agree</td>\n",
       "      <td>Disagree</td>\n",
       "      <td>Agree</td>\n",
       "      <td>113750.0</td>\n",
       "      <td>NaN</td>\n",
       "      <td>20</td>\n",
       "    </tr>\n",
       "    <tr>\n",
       "      <th>3</th>\n",
       "      <td>Professional non-developer who sometimes write...</td>\n",
       "      <td>Yes, both</td>\n",
       "      <td>United States</td>\n",
       "      <td>No</td>\n",
       "      <td>Employed full-time</td>\n",
       "      <td>Doctoral degree</td>\n",
       "      <td>A non-computer-focused engineering discipline</td>\n",
       "      <td>Less than half the time, but at least one day ...</td>\n",
       "      <td>10,000 or more employees</td>\n",
       "      <td>Non-profit/non-governmental organization or pr...</td>\n",
       "      <td>...</td>\n",
       "      <td>Male</td>\n",
       "      <td>A doctoral degree</td>\n",
       "      <td>White or of European descent</td>\n",
       "      <td>Agree</td>\n",
       "      <td>Agree</td>\n",
       "      <td>Somewhat agree</td>\n",
       "      <td>Strongly agree</td>\n",
       "      <td>NaN</td>\n",
       "      <td>NaN</td>\n",
       "      <td>9</td>\n",
       "    </tr>\n",
       "    <tr>\n",
       "      <th>4</th>\n",
       "      <td>Professional developer</td>\n",
       "      <td>Yes, I program as a hobby</td>\n",
       "      <td>Switzerland</td>\n",
       "      <td>No</td>\n",
       "      <td>Employed full-time</td>\n",
       "      <td>Master's degree</td>\n",
       "      <td>Computer science or software engineering</td>\n",
       "      <td>Never</td>\n",
       "      <td>10 to 19 employees</td>\n",
       "      <td>Privately-held limited company, not in startup...</td>\n",
       "      <td>...</td>\n",
       "      <td>NaN</td>\n",
       "      <td>NaN</td>\n",
       "      <td>NaN</td>\n",
       "      <td>NaN</td>\n",
       "      <td>NaN</td>\n",
       "      <td>NaN</td>\n",
       "      <td>NaN</td>\n",
       "      <td>NaN</td>\n",
       "      <td>NaN</td>\n",
       "      <td>10</td>\n",
       "    </tr>\n",
       "    <tr>\n",
       "      <th>6</th>\n",
       "      <td>Professional non-developer who sometimes write...</td>\n",
       "      <td>Yes, both</td>\n",
       "      <td>United States</td>\n",
       "      <td>No</td>\n",
       "      <td>Employed full-time</td>\n",
       "      <td>Master's degree</td>\n",
       "      <td>A non-computer-focused engineering discipline</td>\n",
       "      <td>Less than half the time, but at least one day ...</td>\n",
       "      <td>20 to 99 employees</td>\n",
       "      <td>Government agency or public school/university</td>\n",
       "      <td>...</td>\n",
       "      <td>Male</td>\n",
       "      <td>A doctoral degree</td>\n",
       "      <td>White or of European descent</td>\n",
       "      <td>Disagree</td>\n",
       "      <td>Agree</td>\n",
       "      <td>Disagree</td>\n",
       "      <td>Agree</td>\n",
       "      <td>NaN</td>\n",
       "      <td>NaN</td>\n",
       "      <td>8</td>\n",
       "    </tr>\n",
       "    <tr>\n",
       "      <th>7</th>\n",
       "      <td>Professional developer</td>\n",
       "      <td>Yes, both</td>\n",
       "      <td>Poland</td>\n",
       "      <td>No</td>\n",
       "      <td>Employed full-time</td>\n",
       "      <td>Master's degree</td>\n",
       "      <td>Computer science or software engineering</td>\n",
       "      <td>All or almost all the time (I'm full-time remote)</td>\n",
       "      <td>Fewer than 10 employees</td>\n",
       "      <td>Pre-series A startup</td>\n",
       "      <td>...</td>\n",
       "      <td>Male</td>\n",
       "      <td>A master's degree</td>\n",
       "      <td>White or of European descent</td>\n",
       "      <td>Agree</td>\n",
       "      <td>Somewhat agree</td>\n",
       "      <td>Disagree</td>\n",
       "      <td>Agree</td>\n",
       "      <td>NaN</td>\n",
       "      <td>NaN</td>\n",
       "      <td>7</td>\n",
       "    </tr>\n",
       "  </tbody>\n",
       "</table>\n",
       "<p>5 rows × 153 columns</p>\n",
       "</div>"
      ],
      "text/plain": [
       "                                        Professional  \\\n",
       "2                             Professional developer   \n",
       "3  Professional non-developer who sometimes write...   \n",
       "4                             Professional developer   \n",
       "6  Professional non-developer who sometimes write...   \n",
       "7                             Professional developer   \n",
       "\n",
       "                ProgramHobby         Country University    EmploymentStatus  \\\n",
       "2                  Yes, both  United Kingdom         No  Employed full-time   \n",
       "3                  Yes, both   United States         No  Employed full-time   \n",
       "4  Yes, I program as a hobby     Switzerland         No  Employed full-time   \n",
       "6                  Yes, both   United States         No  Employed full-time   \n",
       "7                  Yes, both          Poland         No  Employed full-time   \n",
       "\n",
       "     FormalEducation                                 MajorUndergrad  \\\n",
       "2  Bachelor's degree       Computer science or software engineering   \n",
       "3    Doctoral degree  A non-computer-focused engineering discipline   \n",
       "4    Master's degree       Computer science or software engineering   \n",
       "6    Master's degree  A non-computer-focused engineering discipline   \n",
       "7    Master's degree       Computer science or software engineering   \n",
       "\n",
       "                                          HomeRemote  \\\n",
       "2  Less than half the time, but at least one day ...   \n",
       "3  Less than half the time, but at least one day ...   \n",
       "4                                              Never   \n",
       "6  Less than half the time, but at least one day ...   \n",
       "7  All or almost all the time (I'm full-time remote)   \n",
       "\n",
       "                CompanySize  \\\n",
       "2  10,000 or more employees   \n",
       "3  10,000 or more employees   \n",
       "4        10 to 19 employees   \n",
       "6        20 to 99 employees   \n",
       "7   Fewer than 10 employees   \n",
       "\n",
       "                                         CompanyType  ... Gender  \\\n",
       "2                        Publicly-traded corporation  ...   Male   \n",
       "3  Non-profit/non-governmental organization or pr...  ...   Male   \n",
       "4  Privately-held limited company, not in startup...  ...    NaN   \n",
       "6      Government agency or public school/university  ...   Male   \n",
       "7                               Pre-series A startup  ...   Male   \n",
       "\n",
       "  HighestEducationParents                          Race      SurveyLong  \\\n",
       "2   A professional degree  White or of European descent  Somewhat agree   \n",
       "3       A doctoral degree  White or of European descent           Agree   \n",
       "4                     NaN                           NaN             NaN   \n",
       "6       A doctoral degree  White or of European descent        Disagree   \n",
       "7       A master's degree  White or of European descent           Agree   \n",
       "\n",
       "  QuestionsInteresting QuestionsConfusing  InterestedAnswers    Salary  \\\n",
       "2                Agree           Disagree              Agree  113750.0   \n",
       "3                Agree     Somewhat agree     Strongly agree       NaN   \n",
       "4                  NaN                NaN                NaN       NaN   \n",
       "6                Agree           Disagree              Agree       NaN   \n",
       "7       Somewhat agree           Disagree              Agree       NaN   \n",
       "\n",
       "  ExpectedSalary FullYearsCodedJob  \n",
       "2            NaN                20  \n",
       "3            NaN                 9  \n",
       "4            NaN                10  \n",
       "6            NaN                 8  \n",
       "7            NaN                 7  \n",
       "\n",
       "[5 rows x 153 columns]"
      ]
     },
     "execution_count": 38,
     "metadata": {},
     "output_type": "execute_result"
    }
   ],
   "source": [
    "df_working.head()"
   ]
  },
  {
   "cell_type": "markdown",
   "id": "6c824907-30b2-41aa-8e3c-a48a53794036",
   "metadata": {},
   "source": [
    "To answer this question, we are going to look at the \"CompanySize\" and \"CompanyType\""
   ]
  },
  {
   "cell_type": "code",
   "execution_count": 39,
   "id": "01a09177-7474-4068-8a86-138efd71f0b8",
   "metadata": {},
   "outputs": [
    {
     "data": {
      "text/plain": [
       "20 to 99 employees          7622\n",
       "100 to 499 employees        6477\n",
       "10,000 or more employees    4953\n",
       "10 to 19 employees          3545\n",
       "1,000 to 4,999 employees    3347\n",
       "Fewer than 10 employees     3274\n",
       "500 to 999 employees        2187\n",
       "5,000 to 9,999 employees    1405\n",
       "I don't know                 608\n",
       "I prefer not to answer       520\n",
       "Name: CompanySize, dtype: int64"
      ]
     },
     "execution_count": 39,
     "metadata": {},
     "output_type": "execute_result"
    }
   ],
   "source": [
    "df_working[\"CompanySize\"].value_counts()"
   ]
  },
  {
   "cell_type": "code",
   "execution_count": 40,
   "id": "e879e683-7627-424e-a61c-ad18170f4f67",
   "metadata": {},
   "outputs": [
    {
     "data": {
      "text/plain": [
       "5248"
      ]
     },
     "execution_count": 40,
     "metadata": {},
     "output_type": "execute_result"
    }
   ],
   "source": [
    "df_working[\"CompanySize\"].isnull().sum()"
   ]
  },
  {
   "cell_type": "markdown",
   "id": "63236e54-222e-46bd-b0a7-2f761d26317c",
   "metadata": {},
   "source": [
    "Again we create a categorical variable from the data"
   ]
  },
  {
   "cell_type": "code",
   "execution_count": 41,
   "id": "e7e7b0cc-ce17-4664-8fa4-844a9df34ecb",
   "metadata": {},
   "outputs": [],
   "source": [
    "df_working[\"CompanySize\"].fillna(\"No data\", inplace=True)\n",
    "# Change the original column to a categorical one\n",
    "CompanySize_cat_strings = [\"Fewer than 10 employees\",\n",
    "                        \"20 to 99 employees\",\n",
    "                        \"100 to 499 employees\",\n",
    "                        \"500 to 999 employees\",\n",
    "                        \"1,000 to 4,999 employees\",\n",
    "                        \"5,000 to 9,999 employees\",\n",
    "                        \"10,000 or more employees\",\n",
    "                        \"I don't know\",\n",
    "                        \"I prefer not to answer\",\n",
    "                        \"No data\",\n",
    "                            ]\n",
    "CompanySize_cats = CategoricalDtype(categories = CompanySize_cat_strings, ordered = True)\n",
    "\n",
    "# Converting a column to the \"category\" datatype\n",
    "df_working[\"CompanySize\"] = df_working[\"CompanySize\"].astype(CompanySize_cats) "
   ]
  },
  {
   "cell_type": "code",
   "execution_count": 42,
   "id": "d98af1e2-0be6-4954-9181-e46441c28245",
   "metadata": {},
   "outputs": [
    {
     "data": {
      "text/plain": [
       "20 to 99 employees          7622\n",
       "100 to 499 employees        6477\n",
       "No data                     5248\n",
       "10,000 or more employees    4953\n",
       "1,000 to 4,999 employees    3347\n",
       "Fewer than 10 employees     3274\n",
       "500 to 999 employees        2187\n",
       "5,000 to 9,999 employees    1405\n",
       "I don't know                 608\n",
       "I prefer not to answer       520\n",
       "Name: CompanySize, dtype: int64"
      ]
     },
     "execution_count": 42,
     "metadata": {},
     "output_type": "execute_result"
    }
   ],
   "source": [
    "df_working[\"CompanySize\"].value_counts()"
   ]
  },
  {
   "cell_type": "code",
   "execution_count": 43,
   "id": "e0fa983d-f7ab-4290-bdfb-99ee7afd399c",
   "metadata": {},
   "outputs": [
    {
     "data": {
      "image/png": "[encoded data removed]",
      "text/plain": [
       "<Figure size 1080x1080 with 1 Axes>"
      ]
     },
     "metadata": {},
     "output_type": "display_data"
    }
   ],
   "source": [
    "sns.set(rc={'figure.figsize':(15, 15)})\n",
    "ax = sns.countplot(y = df_working[\"CompanySize\"], hue = df_working[\"HomeRemote\"], color='blue', dodge=False, orient=\"v\",   order = CompanySize_cat_strings)"
   ]
  },
  {
   "cell_type": "markdown",
   "id": "4bead54d-460f-4e3f-b032-0d8d1f0b621f",
   "metadata": {},
   "source": [
    "In this plot, we can only the the absolute values. These are more difficult to compare. Therefore we are going to create a plot with the relative values"
   ]
  },
  {
   "cell_type": "code",
   "execution_count": 44,
   "id": "dd184477-4347-4ff4-9cb1-e2e3c141c6f1",
   "metadata": {},
   "outputs": [
    {
     "data": {
      "text/plain": [
       "20 to 99 employees          7622\n",
       "100 to 499 employees        6477\n",
       "No data                     5248\n",
       "10,000 or more employees    4953\n",
       "1,000 to 4,999 employees    3347\n",
       "Fewer than 10 employees     3274\n",
       "500 to 999 employees        2187\n",
       "5,000 to 9,999 employees    1405\n",
       "I don't know                 608\n",
       "I prefer not to answer       520\n",
       "Name: CompanySize, dtype: int64"
      ]
     },
     "execution_count": 44,
     "metadata": {},
     "output_type": "execute_result"
    }
   ],
   "source": [
    "df_working[\"CompanySize\"].value_counts()"
   ]
  },
  {
   "cell_type": "code",
   "execution_count": 45,
   "id": "e8139dc3-ba44-49c6-a57b-5dc3e7bc7b4f",
   "metadata": {},
   "outputs": [],
   "source": [
    "abs_remote_size_stats = df_working.groupby(\"CompanySize\")[\"HomeRemote\"].value_counts()\n",
    "rel_remote_size_stats = abs_remote_size_stats / abs_remote_size_stats.groupby(\"CompanySize\").sum()*100"
   ]
  },
  {
   "cell_type": "code",
   "execution_count": 46,
   "id": "bd7c38d3-2cc8-4830-ad13-ba1d2aad8f7c",
   "metadata": {},
   "outputs": [
    {
     "data": {
      "text/plain": [
       "CompanySize               HomeRemote                                             \n",
       "Fewer than 10 employees   A few days each month                                      33.506573\n",
       "                          Never                                                      28.890248\n",
       "                          All or almost all the time (I'm full-time remote)          15.988994\n",
       "                          Less than half the time, but at least one day each week    10.852950\n",
       "                          More than half, but not all, the time                       5.716906\n",
       "                          About half the time                                         5.044329\n",
       "20 to 99 employees        A few days each month                                      39.438099\n",
       "                          Never                                                      38.217146\n",
       "                          Less than half the time, but at least one day each week     9.701982\n",
       "                          All or almost all the time (I'm full-time remote)           6.905606\n",
       "                          About half the time                                         2.953919\n",
       "                          More than half, but not all, the time                       2.783248\n",
       "100 to 499 employees      A few days each month                                      40.852246\n",
       "                          Never                                                      38.706191\n",
       "                          Less than half the time, but at least one day each week     9.217230\n",
       "                          All or almost all the time (I'm full-time remote)           5.604447\n",
       "                          About half the time                                         2.948896\n",
       "                          More than half, but not all, the time                       2.670990\n",
       "500 to 999 employees      A few days each month                                      44.419030\n",
       "                          Never                                                      36.779506\n",
       "                          Less than half the time, but at least one day each week     9.560842\n",
       "                          All or almost all the time (I'm full-time remote)           4.483074\n",
       "                          More than half, but not all, the time                       2.790485\n",
       "                          About half the time                                         1.967063\n",
       "1,000 to 4,999 employees  A few days each month                                      42.724828\n",
       "                          Never                                                      37.974305\n",
       "                          Less than half the time, but at least one day each week     9.650433\n",
       "                          All or almost all the time (I'm full-time remote)           4.003585\n",
       "                          More than half, but not all, the time                       2.927995\n",
       "                          About half the time                                         2.718853\n",
       "5,000 to 9,999 employees  A few days each month                                      40.342124\n",
       "                          Never                                                      38.560228\n",
       "                          Less than half the time, but at least one day each week    10.976479\n",
       "                          All or almost all the time (I'm full-time remote)           4.561654\n",
       "                          About half the time                                         3.492516\n",
       "                          More than half, but not all, the time                       2.066999\n",
       "10,000 or more employees  A few days each month                                      46.139854\n",
       "                          Never                                                      32.174616\n",
       "                          Less than half the time, but at least one day each week    11.661277\n",
       "                          All or almost all the time (I'm full-time remote)           4.446241\n",
       "                          About half the time                                         3.071948\n",
       "                          More than half, but not all, the time                       2.506063\n",
       "I don't know              Never                                                      37.788779\n",
       "                          A few days each month                                      37.458746\n",
       "                          Less than half the time, but at least one day each week     9.570957\n",
       "                          All or almost all the time (I'm full-time remote)           7.260726\n",
       "                          About half the time                                         4.290429\n",
       "                          More than half, but not all, the time                       3.630363\n",
       "I prefer not to answer    Never                                                      41.586074\n",
       "                          A few days each month                                      34.816248\n",
       "                          Less than half the time, but at least one day each week     9.090909\n",
       "                          All or almost all the time (I'm full-time remote)           7.543520\n",
       "                          About half the time                                         3.675048\n",
       "                          More than half, but not all, the time                       3.288201\n",
       "No data                   All or almost all the time (I'm full-time remote)          47.347932\n",
       "                          A few days each month                                      17.226277\n",
       "                          More than half, but not all, the time                      11.922141\n",
       "                          Less than half the time, but at least one day each week     8.394161\n",
       "                          About half the time                                         8.223844\n",
       "                          Never                                                       6.885645\n",
       "Name: HomeRemote, dtype: float64"
      ]
     },
     "execution_count": 46,
     "metadata": {},
     "output_type": "execute_result"
    }
   ],
   "source": [
    "rel_remote_size_stats"
   ]
  },
  {
   "cell_type": "code",
   "execution_count": 47,
   "id": "f945f529-7a1c-42ed-9bee-6f0c46a60d01",
   "metadata": {},
   "outputs": [],
   "source": [
    "rel_remote_size_stats_df = pd.DataFrame(rel_remote_size_stats).unstack()"
   ]
  },
  {
   "cell_type": "code",
   "execution_count": 48,
   "id": "f9a5baa1-9f89-4ddd-a144-1c979dd9ab9e",
   "metadata": {},
   "outputs": [
    {
     "data": {
      "text/plain": [
       "            HomeRemote                                             \n",
       "HomeRemote  Never                                                      float64\n",
       "            A few days each month                                      float64\n",
       "            Less than half the time, but at least one day each week    float64\n",
       "            About half the time                                        float64\n",
       "            More than half, but not all, the time                      float64\n",
       "            All or almost all the time (I'm full-time remote)          float64\n",
       "dtype: object"
      ]
     },
     "execution_count": 48,
     "metadata": {},
     "output_type": "execute_result"
    }
   ],
   "source": [
    "rel_remote_size_stats_df.dtypes"
   ]
  },
  {
   "cell_type": "code",
   "execution_count": 49,
   "id": "8878ee58-baa0-48d7-88fc-72bce55ba762",
   "metadata": {},
   "outputs": [],
   "source": [
    "#ax = sns.countplot(data = rel_remote_size_stats_df, color='blue', dodge=False, orient=\"v\",   order = CompanySize_cat_strings)\n",
    "# y = rel_remote_size_stats_df[\"CompanySize\"], hue = rel_remote_size_stats_df[\"HomeRemote\"],"
   ]
  },
  {
   "cell_type": "code",
   "execution_count": null,
   "id": "699ed3d4-476b-4f38-a446-ed6c22035c66",
   "metadata": {},
   "outputs": [],
   "source": []
  },
  {
   "cell_type": "markdown",
   "id": "6ccb435d-33f0-4c1d-a548-79683448a0a7",
   "metadata": {},
   "source": [
    "# Question 3 - What are the most common ways for companies to search for remote workforce?"
   ]
  },
  {
   "cell_type": "markdown",
   "id": "ca991513-6bc7-41bd-8524-746d40fee7ba",
   "metadata": {},
   "source": [
    "To answer these questions, the following columns are most important! As earlier, we can only use the data from individuales who are employed currently.\n",
    "\n",
    "JobSeekingStatus - Which of the following best describes your current job-seeking status?\n",
    "\n",
    "AssessJobRemote - When you're assessing potential jobs to apply to, how important are each of the following to you? The opportunity to work from home/remotely\n",
    "\n",
    "LearnedHiring\tThink back to when you first applied to work for your current employer. Which of the following best describes how you learned that they were hiring for that particular job?"
   ]
  },
  {
   "cell_type": "code",
   "execution_count": 50,
   "id": "1e8b8057-a12e-4e12-a66c-7136518432a4",
   "metadata": {},
   "outputs": [
    {
     "data": {
      "text/html": [
       "<div>\n",
       "<style scoped>\n",
       "    .dataframe tbody tr th:only-of-type {\n",
       "        vertical-align: middle;\n",
       "    }\n",
       "\n",
       "    .dataframe tbody tr th {\n",
       "        vertical-align: top;\n",
       "    }\n",
       "\n",
       "    .dataframe thead th {\n",
       "        text-align: right;\n",
       "    }\n",
       "</style>\n",
       "<table border=\"1\" class=\"dataframe\">\n",
       "  <thead>\n",
       "    <tr style=\"text-align: right;\">\n",
       "      <th></th>\n",
       "      <th>Professional</th>\n",
       "      <th>ProgramHobby</th>\n",
       "      <th>Country</th>\n",
       "      <th>University</th>\n",
       "      <th>EmploymentStatus</th>\n",
       "      <th>FormalEducation</th>\n",
       "      <th>MajorUndergrad</th>\n",
       "      <th>HomeRemote</th>\n",
       "      <th>CompanySize</th>\n",
       "      <th>CompanyType</th>\n",
       "      <th>...</th>\n",
       "      <th>Gender</th>\n",
       "      <th>HighestEducationParents</th>\n",
       "      <th>Race</th>\n",
       "      <th>SurveyLong</th>\n",
       "      <th>QuestionsInteresting</th>\n",
       "      <th>QuestionsConfusing</th>\n",
       "      <th>InterestedAnswers</th>\n",
       "      <th>Salary</th>\n",
       "      <th>ExpectedSalary</th>\n",
       "      <th>FullYearsCodedJob</th>\n",
       "    </tr>\n",
       "  </thead>\n",
       "  <tbody>\n",
       "    <tr>\n",
       "      <th>2</th>\n",
       "      <td>Professional developer</td>\n",
       "      <td>Yes, both</td>\n",
       "      <td>United Kingdom</td>\n",
       "      <td>No</td>\n",
       "      <td>Employed full-time</td>\n",
       "      <td>Bachelor's degree</td>\n",
       "      <td>Computer science or software engineering</td>\n",
       "      <td>Less than half the time, but at least one day ...</td>\n",
       "      <td>10,000 or more employees</td>\n",
       "      <td>Publicly-traded corporation</td>\n",
       "      <td>...</td>\n",
       "      <td>Male</td>\n",
       "      <td>A professional degree</td>\n",
       "      <td>White or of European descent</td>\n",
       "      <td>Somewhat agree</td>\n",
       "      <td>Agree</td>\n",
       "      <td>Disagree</td>\n",
       "      <td>Agree</td>\n",
       "      <td>113750.0</td>\n",
       "      <td>NaN</td>\n",
       "      <td>20</td>\n",
       "    </tr>\n",
       "    <tr>\n",
       "      <th>3</th>\n",
       "      <td>Professional non-developer who sometimes write...</td>\n",
       "      <td>Yes, both</td>\n",
       "      <td>United States</td>\n",
       "      <td>No</td>\n",
       "      <td>Employed full-time</td>\n",
       "      <td>Doctoral degree</td>\n",
       "      <td>A non-computer-focused engineering discipline</td>\n",
       "      <td>Less than half the time, but at least one day ...</td>\n",
       "      <td>10,000 or more employees</td>\n",
       "      <td>Non-profit/non-governmental organization or pr...</td>\n",
       "      <td>...</td>\n",
       "      <td>Male</td>\n",
       "      <td>A doctoral degree</td>\n",
       "      <td>White or of European descent</td>\n",
       "      <td>Agree</td>\n",
       "      <td>Agree</td>\n",
       "      <td>Somewhat agree</td>\n",
       "      <td>Strongly agree</td>\n",
       "      <td>NaN</td>\n",
       "      <td>NaN</td>\n",
       "      <td>9</td>\n",
       "    </tr>\n",
       "    <tr>\n",
       "      <th>4</th>\n",
       "      <td>Professional developer</td>\n",
       "      <td>Yes, I program as a hobby</td>\n",
       "      <td>Switzerland</td>\n",
       "      <td>No</td>\n",
       "      <td>Employed full-time</td>\n",
       "      <td>Master's degree</td>\n",
       "      <td>Computer science or software engineering</td>\n",
       "      <td>Never</td>\n",
       "      <td>NaN</td>\n",
       "      <td>Privately-held limited company, not in startup...</td>\n",
       "      <td>...</td>\n",
       "      <td>NaN</td>\n",
       "      <td>NaN</td>\n",
       "      <td>NaN</td>\n",
       "      <td>NaN</td>\n",
       "      <td>NaN</td>\n",
       "      <td>NaN</td>\n",
       "      <td>NaN</td>\n",
       "      <td>NaN</td>\n",
       "      <td>NaN</td>\n",
       "      <td>10</td>\n",
       "    </tr>\n",
       "    <tr>\n",
       "      <th>6</th>\n",
       "      <td>Professional non-developer who sometimes write...</td>\n",
       "      <td>Yes, both</td>\n",
       "      <td>United States</td>\n",
       "      <td>No</td>\n",
       "      <td>Employed full-time</td>\n",
       "      <td>Master's degree</td>\n",
       "      <td>A non-computer-focused engineering discipline</td>\n",
       "      <td>Less than half the time, but at least one day ...</td>\n",
       "      <td>20 to 99 employees</td>\n",
       "      <td>Government agency or public school/university</td>\n",
       "      <td>...</td>\n",
       "      <td>Male</td>\n",
       "      <td>A doctoral degree</td>\n",
       "      <td>White or of European descent</td>\n",
       "      <td>Disagree</td>\n",
       "      <td>Agree</td>\n",
       "      <td>Disagree</td>\n",
       "      <td>Agree</td>\n",
       "      <td>NaN</td>\n",
       "      <td>NaN</td>\n",
       "      <td>8</td>\n",
       "    </tr>\n",
       "    <tr>\n",
       "      <th>7</th>\n",
       "      <td>Professional developer</td>\n",
       "      <td>Yes, both</td>\n",
       "      <td>Poland</td>\n",
       "      <td>No</td>\n",
       "      <td>Employed full-time</td>\n",
       "      <td>Master's degree</td>\n",
       "      <td>Computer science or software engineering</td>\n",
       "      <td>All or almost all the time (I'm full-time remote)</td>\n",
       "      <td>Fewer than 10 employees</td>\n",
       "      <td>Pre-series A startup</td>\n",
       "      <td>...</td>\n",
       "      <td>Male</td>\n",
       "      <td>A master's degree</td>\n",
       "      <td>White or of European descent</td>\n",
       "      <td>Agree</td>\n",
       "      <td>Somewhat agree</td>\n",
       "      <td>Disagree</td>\n",
       "      <td>Agree</td>\n",
       "      <td>NaN</td>\n",
       "      <td>NaN</td>\n",
       "      <td>7</td>\n",
       "    </tr>\n",
       "  </tbody>\n",
       "</table>\n",
       "<p>5 rows × 153 columns</p>\n",
       "</div>"
      ],
      "text/plain": [
       "                                        Professional  \\\n",
       "2                             Professional developer   \n",
       "3  Professional non-developer who sometimes write...   \n",
       "4                             Professional developer   \n",
       "6  Professional non-developer who sometimes write...   \n",
       "7                             Professional developer   \n",
       "\n",
       "                ProgramHobby         Country University    EmploymentStatus  \\\n",
       "2                  Yes, both  United Kingdom         No  Employed full-time   \n",
       "3                  Yes, both   United States         No  Employed full-time   \n",
       "4  Yes, I program as a hobby     Switzerland         No  Employed full-time   \n",
       "6                  Yes, both   United States         No  Employed full-time   \n",
       "7                  Yes, both          Poland         No  Employed full-time   \n",
       "\n",
       "     FormalEducation                                 MajorUndergrad  \\\n",
       "2  Bachelor's degree       Computer science or software engineering   \n",
       "3    Doctoral degree  A non-computer-focused engineering discipline   \n",
       "4    Master's degree       Computer science or software engineering   \n",
       "6    Master's degree  A non-computer-focused engineering discipline   \n",
       "7    Master's degree       Computer science or software engineering   \n",
       "\n",
       "                                          HomeRemote  \\\n",
       "2  Less than half the time, but at least one day ...   \n",
       "3  Less than half the time, but at least one day ...   \n",
       "4                                              Never   \n",
       "6  Less than half the time, but at least one day ...   \n",
       "7  All or almost all the time (I'm full-time remote)   \n",
       "\n",
       "                CompanySize  \\\n",
       "2  10,000 or more employees   \n",
       "3  10,000 or more employees   \n",
       "4                       NaN   \n",
       "6        20 to 99 employees   \n",
       "7   Fewer than 10 employees   \n",
       "\n",
       "                                         CompanyType  ... Gender  \\\n",
       "2                        Publicly-traded corporation  ...   Male   \n",
       "3  Non-profit/non-governmental organization or pr...  ...   Male   \n",
       "4  Privately-held limited company, not in startup...  ...    NaN   \n",
       "6      Government agency or public school/university  ...   Male   \n",
       "7                               Pre-series A startup  ...   Male   \n",
       "\n",
       "  HighestEducationParents                          Race      SurveyLong  \\\n",
       "2   A professional degree  White or of European descent  Somewhat agree   \n",
       "3       A doctoral degree  White or of European descent           Agree   \n",
       "4                     NaN                           NaN             NaN   \n",
       "6       A doctoral degree  White or of European descent        Disagree   \n",
       "7       A master's degree  White or of European descent           Agree   \n",
       "\n",
       "  QuestionsInteresting QuestionsConfusing  InterestedAnswers    Salary  \\\n",
       "2                Agree           Disagree              Agree  113750.0   \n",
       "3                Agree     Somewhat agree     Strongly agree       NaN   \n",
       "4                  NaN                NaN                NaN       NaN   \n",
       "6                Agree           Disagree              Agree       NaN   \n",
       "7       Somewhat agree           Disagree              Agree       NaN   \n",
       "\n",
       "  ExpectedSalary FullYearsCodedJob  \n",
       "2            NaN                20  \n",
       "3            NaN                 9  \n",
       "4            NaN                10  \n",
       "6            NaN                 8  \n",
       "7            NaN                 7  \n",
       "\n",
       "[5 rows x 153 columns]"
      ]
     },
     "execution_count": 50,
     "metadata": {},
     "output_type": "execute_result"
    }
   ],
   "source": [
    "df_working.head()"
   ]
  },
  {
   "cell_type": "code",
   "execution_count": 51,
   "id": "048780d4-67a9-452e-a025-aaafdbd878b9",
   "metadata": {},
   "outputs": [
    {
     "data": {
      "text/plain": [
       "I'm not actively looking, but I am open to new opportunities    16288\n",
       "I am not interested in new job opportunities                     6592\n",
       "I am actively looking for a job                                  3071\n",
       "Name: JobSeekingStatus, dtype: int64"
      ]
     },
     "execution_count": 51,
     "metadata": {},
     "output_type": "execute_result"
    }
   ],
   "source": [
    "df_working[\"JobSeekingStatus\"].value_counts()"
   ]
  },
  {
   "cell_type": "code",
   "execution_count": 52,
   "id": "7a11094c-d87b-4105-b18e-2bf0af1c06aa",
   "metadata": {},
   "outputs": [
    {
     "data": {
      "text/plain": [
       "Important               4797\n",
       "Somewhat important      4774\n",
       "Very important          3887\n",
       "Not very important      3045\n",
       "Not at all important     795\n",
       "Name: AssessJobRemote, dtype: int64"
      ]
     },
     "execution_count": 52,
     "metadata": {},
     "output_type": "execute_result"
    }
   ],
   "source": [
    "df_working[\"AssessJobRemote\"].value_counts()"
   ]
  },
  {
   "cell_type": "code",
   "execution_count": 53,
   "id": "5f64255b-4ae0-4d28-8d3d-c5fd9e994961",
   "metadata": {},
   "outputs": [
    {
     "data": {
      "text/plain": [
       "A friend, family member, or former colleague told me                            5577\n",
       "I was contacted directly by someone at the company (e.g. internal recruiter)    3803\n",
       "A general-purpose job board                                                     2957\n",
       "An external recruiter or headhunter                                             2896\n",
       "I visited the company's Web site and found a job listing there                  1727\n",
       "A career fair or on-campus recruiting event                                     1551\n",
       "Some other way                                                                  1500\n",
       "A tech-specific job board                                                        868\n",
       "Name: LearnedHiring, dtype: int64"
      ]
     },
     "execution_count": 53,
     "metadata": {},
     "output_type": "execute_result"
    }
   ],
   "source": [
    "df_working[\"LearnedHiring\"].value_counts()"
   ]
  },
  {
   "cell_type": "markdown",
   "id": "a0ecc63b-9036-4e20-b181-50fdc4781a7b",
   "metadata": {},
   "source": [
    "We want to compare employees who do not work remotely and people who work remotely a lot (\"More than half, but not all, the time\" or \"All or almost all the time (I'm full-time remote)\") regarding how they learned that their current emplooyer is hiring for their current position"
   ]
  },
  {
   "cell_type": "code",
   "execution_count": 54,
   "id": "f556a815-796c-4cb2-a60c-0686eb3e3185",
   "metadata": {},
   "outputs": [],
   "source": [
    "options = [\"More than half, but not all, the time\", \"All or almost all the time (I'm full-time remote)\"]\n",
    "df_remote = df_working.loc[df_working[\"HomeRemote\"].isin(options)]"
   ]
  },
  {
   "cell_type": "code",
   "execution_count": 55,
   "id": "128579a0-2653-45d3-b973-cfcb99c1b13e",
   "metadata": {},
   "outputs": [
    {
     "data": {
      "text/plain": [
       "A friend, family member, or former colleague told me                            584\n",
       "I was contacted directly by someone at the company (e.g. internal recruiter)    513\n",
       "A general-purpose job board                                                     204\n",
       "Some other way                                                                  203\n",
       "An external recruiter or headhunter                                             195\n",
       "I visited the company's Web site and found a job listing there                  151\n",
       "A tech-specific job board                                                       134\n",
       "A career fair or on-campus recruiting event                                      79\n",
       "Name: LearnedHiring, dtype: int64"
      ]
     },
     "execution_count": 55,
     "metadata": {},
     "output_type": "execute_result"
    }
   ],
   "source": [
    "df_remote[\"LearnedHiring\"].value_counts()"
   ]
  },
  {
   "cell_type": "code",
   "execution_count": 56,
   "id": "c78e221f-ca0d-414d-ac72-2ee6dda9b7d6",
   "metadata": {},
   "outputs": [
    {
     "data": {
      "text/plain": [
       "A friend, family member, or former colleague told me                            0.267110\n",
       "I was contacted directly by someone at the company (e.g. internal recruiter)    0.182145\n",
       "A general-purpose job board                                                     0.141626\n",
       "An external recruiter or headhunter                                             0.138704\n",
       "I visited the company's Web site and found a job listing there                  0.082715\n",
       "A career fair or on-campus recruiting event                                     0.074285\n",
       "Some other way                                                                  0.071843\n",
       "A tech-specific job board                                                       0.041573\n",
       "Name: LearnedHiring, dtype: float64"
      ]
     },
     "execution_count": 56,
     "metadata": {},
     "output_type": "execute_result"
    }
   ],
   "source": [
    "# Percentages\n",
    "df_working[\"LearnedHiring\"].value_counts() / df_working[\"LearnedHiring\"].count()"
   ]
  },
  {
   "cell_type": "code",
   "execution_count": 57,
   "id": "2066c028-1275-4569-9ec3-165e2ea362d3",
   "metadata": {},
   "outputs": [
    {
     "data": {
      "text/plain": [
       "A friend, family member, or former colleague told me                            0.283083\n",
       "I was contacted directly by someone at the company (e.g. internal recruiter)    0.248667\n",
       "A general-purpose job board                                                     0.098885\n",
       "Some other way                                                                  0.098400\n",
       "An external recruiter or headhunter                                             0.094523\n",
       "I visited the company's Web site and found a job listing there                  0.073194\n",
       "A tech-specific job board                                                       0.064954\n",
       "A career fair or on-campus recruiting event                                     0.038294\n",
       "Name: LearnedHiring, dtype: float64"
      ]
     },
     "execution_count": 57,
     "metadata": {},
     "output_type": "execute_result"
    }
   ],
   "source": [
    "df_remote[\"LearnedHiring\"].value_counts() / df_remote[\"LearnedHiring\"].count()"
   ]
  },
  {
   "cell_type": "code",
   "execution_count": 58,
   "id": "e16dda50-b085-49f6-b9ce-6302b4313b58",
   "metadata": {},
   "outputs": [],
   "source": [
    "# Create a new column with a boolean value that indicates remote work based on our criterias or not\n",
    "options = [\"More than half, but not all, the time\", \"All or almost all the time (I'm full-time remote)\"]\n",
    "df_working[\"Remote\"] = df_working[\"HomeRemote\"].isin(options)"
   ]
  },
  {
   "cell_type": "code",
   "execution_count": 59,
   "id": "26803bba-5003-46fe-9d2d-7cdc8101a6a2",
   "metadata": {},
   "outputs": [
    {
     "data": {
      "text/plain": [
       "2    False\n",
       "3    False\n",
       "4    False\n",
       "6    False\n",
       "7     True\n",
       "Name: Remote, dtype: bool"
      ]
     },
     "execution_count": 59,
     "metadata": {},
     "output_type": "execute_result"
    }
   ],
   "source": [
    "df_working[\"Remote\"].head()"
   ]
  },
  {
   "cell_type": "code",
   "execution_count": 71,
   "id": "1453179b-3c84-44dc-b268-60ac01a10e7f",
   "metadata": {},
   "outputs": [
    {
     "data": {
      "text/plain": [
       "False    20879\n",
       "True     18307\n",
       "Name: LearnedHiring, dtype: int64"
      ]
     },
     "execution_count": 71,
     "metadata": {},
     "output_type": "execute_result"
    }
   ],
   "source": [
    "# Before evaluating, we take a look how many values are missing\n",
    "df_working[\"LearnedHiring\"].isna().value_counts()"
   ]
  },
  {
   "cell_type": "code",
   "execution_count": 81,
   "id": "871d5089-1d90-42e2-962e-86be303f60c3",
   "metadata": {},
   "outputs": [],
   "source": [
    "# As we can see, nearly half of the data is missing! This will make a prediction based on this data diffcult. Neithertheless, we are going to proceed and drop the na-data.\n",
    "df_working.dropna(subset=[\"LearnedHiring\"], inplace=True)"
   ]
  },
  {
   "cell_type": "code",
   "execution_count": 83,
   "id": "0e5366f5-07e5-4b45-ae28-d08c78dd3c8a",
   "metadata": {},
   "outputs": [
    {
     "data": {
      "image/png": "[encoded data removed]",
      "text/plain": [
       "<Figure size 1080x1080 with 1 Axes>"
      ]
     },
     "metadata": {},
     "output_type": "display_data"
    }
   ],
   "source": [
    "new_df = (df_working.groupby(['LearnedHiring','Remote']).size() / df_working.groupby(['Remote']).size()).reset_index().rename({0:'percent'}, axis=1)\n",
    "plot = sns.barplot(x=new_df[\"LearnedHiring\"], y = new_df[\"percent\"], hue=new_df[\"Remote\"])\n",
    "dummy_variable = plot.set_xticklabels(labels = plot.get_xticklabels(), rotation=90)"
   ]
  },
  {
   "cell_type": "markdown",
   "id": "daa96a9f-889e-4b18-8d12-2cc9461b9a9e",
   "metadata": {},
   "source": [
    "As we can see, many remote employees were contacted directly by f.e. an internal recruiter of their current employer compared to non-remote employees. Tech-specific job boards are also more common for remote employees to find a remote job. On the other hand, career fairs, general-purpose job boards and external recruiters are options less preferable for people who want to work remotely.\n",
    "\n",
    "We can conclude that a person who wants to work remotely should focus on self-promotion to get recognized by companies which search for remote workforce. This could be done by creating a expressive profile on LinkedIn or being active on websites like Medium, StackOverFlow or Kaggle. Additionally, searching for jobs in specialized job boards could be an option."
   ]
  }
 ],
 "metadata": {
  "kernelspec": {
   "display_name": "Python 3",
   "language": "python",
   "name": "python3"
  },
  "language_info": {
   "codemirror_mode": {
    "name": "ipython",
    "version": 3
   },
   "file_extension": ".py",
   "mimetype": "text/x-python",
   "name": "python",
   "nbconvert_exporter": "python",
   "pygments_lexer": "ipython3",
   "version": "3.8.8"
  }
 },
 "nbformat": 4,
 "nbformat_minor": 5
}
